{
  "nbformat": 4,
  "nbformat_minor": 0,
  "metadata": {
    "kernelspec": {
      "display_name": "Python 3",
      "language": "python",
      "name": "python3"
    },
    "language_info": {
      "codemirror_mode": {
        "name": "ipython",
        "version": 3
      },
      "file_extension": ".py",
      "mimetype": "text/x-python",
      "name": "python",
      "nbconvert_exporter": "python",
      "pygments_lexer": "ipython3",
      "version": "3.7.2"
    },
    "colab": {
      "name": "MoA_DNN_final.ipynb",
      "provenance": [],
      "collapsed_sections": [],
      "toc_visible": true,
      "machine_shape": "hm"
    },
    "accelerator": "GPU"
  },
  "cells": [
    {
      "cell_type": "markdown",
      "metadata": {
        "id": "SQ9O9KKKl4PN"
      },
      "source": [
        "# Install Necessary Pacakges"
      ]
    },
    {
      "cell_type": "code",
      "metadata": {
        "id": "XE7rI9rAl4uA"
      },
      "source": [
        "!pip install iterative-stratification"
      ],
      "execution_count": null,
      "outputs": []
    },
    {
      "cell_type": "markdown",
      "metadata": {
        "id": "QkvRvJ4j_JjN"
      },
      "source": [
        "# Import Necessary Packages"
      ]
    },
    {
      "cell_type": "code",
      "metadata": {
        "id": "a8Q-5vCl_M2G"
      },
      "source": [
        "import datetime\n",
        "from google.colab import drive\n",
        "from iterstrat.ml_stratifiers import MultilabelStratifiedKFold\n",
        "import keras\n",
        "from keras import layers\n",
        "from keras.utils.vis_utils import model_to_dot\n",
        "import matplotlib.pyplot as plt\n",
        "import numpy as np\n",
        "import pandas as pd\n",
        "from sklearn.metrics import log_loss\n",
        "from sklearn.model_selection import train_test_split\n",
        "import sklearn\n",
        "import tensorflow as tf\n",
        "import tensorflow.keras.backend as K\n",
        "from tensorflow.keras.callbacks import ReduceLROnPlateau, EarlyStopping\n",
        "from time import time\n",
        "import warnings\n",
        "plt.style.use('seaborn-poster')\n",
        "warnings.filterwarnings(\"ignore\")"
      ],
      "execution_count": null,
      "outputs": []
    },
    {
      "cell_type": "markdown",
      "metadata": {
        "id": "XnucGE03N6qw"
      },
      "source": [
        "# Unzip and Create Data File"
      ]
    },
    {
      "cell_type": "code",
      "metadata": {
        "id": "KcBITMcSOCQg"
      },
      "source": [
        "# alternative, use google colab and google drive\n",
        "# from google.colab import drive\n",
        "#drive.mount('/content/drive')\n",
        "\n",
        "!mkdir moa_data\n",
        "%cd moa_data\n",
        "!unzip /content/lish-moa.zip\n",
        "%cd /content/"
      ],
      "execution_count": null,
      "outputs": []
    },
    {
      "cell_type": "markdown",
      "metadata": {
        "id": "v2StKULiAKkj"
      },
      "source": [
        "# Custom Function Define"
      ]
    },
    {
      "cell_type": "code",
      "metadata": {
        "id": "4Ji4XUL8AM6L"
      },
      "source": [
        "def df_pre_processing(raw_df, type='training', verbose=True):\n",
        "    # Expand features 2 non-numerical features 'cp_type', 'cp_dose' to 4 dummy \n",
        "    # features based on categorical values \n",
        "    processed_df = pd.concat([raw_df, pd.get_dummies(raw_df['cp_dose'], prefix='cp_dose')], axis=1)\n",
        "    processed_df = pd.concat([processed_df, pd.get_dummies(raw_df['cp_type'], \\\n",
        "                                                                           prefix='cp_type')], axis=1)\n",
        "\n",
        "    # Drop the three original features\n",
        "    processed_df = processed_df.drop(['cp_type', 'cp_dose'], axis=1)\n",
        "\n",
        "    # Removed the samples with wrong cp_type -- removed 1866 samples\n",
        "    processed_df = processed_df.loc[processed_df['cp_type_trt_cp']==1].reset_index(drop=True)\n",
        "\n",
        "    # Drop the original sig_id column\n",
        "    processed_df = processed_df.drop(columns='sig_id')\n",
        "\n",
        "    # show shape of processed df\n",
        "    if verbose:\n",
        "        print(f\"Processed {type} dataset shape = {processed_df.shape}.\")\n",
        "        \n",
        "    return processed_df\n",
        "\n",
        "# -----------------------------------------------------------------------------#\n",
        "\n",
        "def create_DNN_base_line_model(input_dim = 877,\n",
        "                               first_layer_dim = 250,\n",
        "                               second_layer_dim = 250,\n",
        "                               third_layer_dim = 250,\n",
        "                               four_layer_dim = 250,\n",
        "                               first_normalization_layer_dim = 250, \n",
        "                               output_layer_dim = 206, \n",
        "                               first_dropout_rate = 0.6,\n",
        "                               second_dropout_rate = 0.6,\n",
        "                               third_dropout_rate = 0.6,\n",
        "                               fourth_drop_rate = 0.6,\n",
        "                               fifth_drop_rate = 0.6, \n",
        "                               first_layer_activation_func = 'relu', \n",
        "                               second_layer_activation_func = 'relu', \n",
        "                               third_layer_activation_func = 'relu',\n",
        "                               fourth_layer_activation_func = 'relu', \n",
        "                               first_normalization_initializer ='lecun_normal',\n",
        "                               first_normalization_layer_activation_func = 'selu',\n",
        "                               output_activation_func = 'sigmoid'):\n",
        "\n",
        "    # Create DNN base line model using keras\n",
        "    # sequential style and active drop out layers\n",
        "    # write it as function for potential opportunities\n",
        "    # to optimize the model\n",
        "    input_layer = keras.Input(shape=(input_dim,))\n",
        "    first_layer = layers.Dense(first_layer_dim, activation=first_layer_activation_func)(input_layer)\n",
        "    first_dropout_layer = layers.Dropout(first_dropout_rate)(first_layer )\n",
        "    second_layer = layers.Dense(second_layer_dim, activation=second_layer_activation_func)(first_dropout_layer)\n",
        "    second_dropout_layer = layers.Dropout(second_dropout_rate)( second_layer )\n",
        "    third_layer = layers.Dense(second_layer_dim, activation=second_layer_activation_func)(second_dropout_layer)\n",
        "    third_dropout_layer = layers.Dropout(third_dropout_rate)( third_layer )\n",
        "    fourth_layer = layers.Dense(second_layer_dim, activation=second_layer_activation_func)(third_dropout_layer)\n",
        "    fourth_dropout_layer = layers.Dropout(third_dropout_rate)( fourth_layer )\n",
        "    first_normalization_layer = layers.Dense(first_normalization_layer_dim, kernel_initializer = first_normalization_initializer, activation = first_normalization_layer_activation_func, name = 'last_frozen' )(fourth_dropout_layer)\n",
        "    fifth_dropout_layer = layers.Dropout(fifth_drop_rate)( first_normalization_layer)\n",
        "    output_layer = layers.Dense(output_layer_dim, activation=output_activation_func)(fifth_dropout_layer)\n",
        "    DNN_model =  keras.Model(input_layer, output_layer)\n",
        "    return DNN_model\n",
        "\n",
        "# -----------------------------------------------------------------------------#\n",
        "\n",
        "def get_average_metrics_out_of_cv_folds(history_list):\n",
        "    # Derive total number of folds and \n",
        "    # total number epochs\n",
        "    total_n_folds = len(history_list)\n",
        "    total_epochs = len(hist_total_list[0].history['loss'])\n",
        "    mean_loss = np.zeros([total_n_folds,total_epochs])\n",
        "    mean_val_loss = np.zeros([total_n_folds,total_epochs])\n",
        "    \n",
        "    # Put loss and validation loss in each fold\n",
        "    for i in range(total_n_folds):\n",
        "        mean_loss[i,:] = history_list[i].history['loss']\n",
        "        mean_val_loss[i,:] = history_list[i].history['val_loss']\n",
        "\n",
        "    # Get average loss and validation loss\n",
        "    mean_loss = np.mean(mean_loss,axis=0)\n",
        "    mean_val_loss  = np.mean(mean_val_loss ,axis=0)\n",
        "    return mean_loss, mean_val_loss\n",
        "\n",
        "# -----------------------------------------------------------------------------#\n",
        "\n",
        "# define helper functions for traget multi-binary-label classification metric\n",
        "def metric(y_true, y_pred,train_targets_scored ):\n",
        "    metrics = []\n",
        "    for _target in train_targets_scored.columns:\n",
        "        metrics.append(log_loss(y_true.loc[:, _target], y_pred.loc[:, _target].astype(float), labels=[0,1]))\n",
        "    return np.mean(metrics)"
      ],
      "execution_count": null,
      "outputs": []
    },
    {
      "cell_type": "markdown",
      "metadata": {
        "id": "_9xzA05I_obI"
      },
      "source": [
        "# Partition and Preprocess Training-Testing Data"
      ]
    },
    {
      "cell_type": "code",
      "metadata": {
        "id": "fV74qPZz9YBF"
      },
      "source": [
        "data_path = \"moa_data/\"\n",
        "# data_path = \"/content/drive/MyDrive/Colab Notebooks/MoA/lish-moa/\"\n",
        "\n",
        "# Load in data set\n",
        "train_features_y1 = pd.read_csv(data_path + \"train_targets_scored.csv\")\n",
        "train_features1 = pd.read_csv(data_path + \"train_features.csv\")\n",
        "train_features1, test_features1, train_features_y1 , test_features_y1 = train_test_split(train_features1, train_features_y1, test_size = 0.1, random_state = 0)\n",
        "\n",
        "# Preprocess training feature \n",
        "train_features1_processed = df_pre_processing(train_features1, type='training', verbose=True)\n",
        "test_features1_processed = df_pre_processing(test_features1, type='training', verbose=True)\n",
        "\n",
        "# Preprocess training labels\n",
        "train_features_y1_processed  = train_features_y1.loc[train_features1['cp_type']=='trt_cp'].reset_index(drop=True)\n",
        "train_features_y1_processed = train_features_y1_processed.drop(\"sig_id\", axis= 1)\n",
        "\n",
        "test_features_y1_processed  = test_features_y1.loc[test_features1['cp_type']=='trt_cp'].reset_index(drop=True)\n",
        "test_features_y1_processed = test_features_y1_processed.drop(\"sig_id\", axis= 1)"
      ],
      "execution_count": null,
      "outputs": []
    },
    {
      "cell_type": "markdown",
      "metadata": {
        "id": "0ueHuuI0kSfi"
      },
      "source": [
        "# Apply CV Scheme Into Training the Baseline DNN"
      ]
    },
    {
      "cell_type": "code",
      "metadata": {
        "colab": {
          "base_uri": "https://localhost:8080/"
        },
        "id": "A3NbJp7Jj67E",
        "outputId": "edea9ec7-246b-4c4b-ff96-a249d89028ae"
      },
      "source": [
        "# Total number of fitting = N_STARTS x N_SPLITS\n",
        "N_STARTS = 3\n",
        "N_SPLITS = 5\n",
        "res = test_features_y1_processed.copy()\n",
        "res.loc[:, test_features_y1_processed.columns] = 0\n",
        "hist_total_list = []\n",
        "print('Training begins.')\n",
        "print('\\n')\n",
        "for seed in range(N_STARTS):\n",
        "    start_time_seed = time()\n",
        "    K.clear_session()\n",
        "    tf.random.set_seed(seed)\n",
        "    mean_score = 0\n",
        "    # Splitting scheme: StratifiedKFold\n",
        "    skf = MultilabelStratifiedKFold(n_splits = N_SPLITS, random_state = 42, shuffle = True)\n",
        "    for n, (tr, te) in enumerate(skf.split(train_features_y1_processed, train_features_y1_processed)):\n",
        "        \n",
        "        start_time_fold = time()\n",
        "        x_tr, x_val = train_features1_processed, train_features1_processed\n",
        "        y_tr, y_val = train_features_y1_processed, train_features_y1_processed\n",
        "\n",
        "        # Generate and compile new models    \n",
        "        model = create_DNN_base_line_model()\n",
        "        model.compile(optimizer=\"Nadam\", loss = \"BinaryCrossentropy\") \n",
        "        \n",
        "        # Set up early stopper and adaptative learning rate\n",
        "        rlr = ReduceLROnPlateau(monitor = 'val_loss', factor = 0.1, patience = 3, \n",
        "                                verbose = 0, min_delta = 1e-4, mode = 'min')\n",
        "        es = EarlyStopping(monitor = 'val_loss', min_delta = 1e-4, patience = 10, mode = 'min', \n",
        "                           baseline = None, restore_best_weights = True, verbose = 0)\n",
        "        history = model.fit(x_tr, y_tr, validation_data = (x_val, y_val), epochs = 15, \n",
        "                            batch_size = 32, callbacks = [rlr, es], verbose = 0)\n",
        "        \n",
        "        hist_total_list.append(history)\n",
        "        hist = pd.DataFrame(history.history)\n",
        "        fold_score = hist['val_loss'].min()\n",
        "        mean_score += fold_score / N_SPLITS\n",
        "        # Save predicted prob in residual df\n",
        "        test_predict = model.predict(test_features1_processed.values[:,:])\n",
        "        res.loc[:, test_features_y1_processed.columns] += test_predict / (N_STARTS *N_SPLITS)\n",
        "        print(f'[{str(datetime.timedelta(seconds = time() - start_time_fold))[2:7]}] Seed {seed}, Fold {n}:', fold_score)\n",
        "    print(f'[{str(datetime.timedelta(seconds = time() - start_time_seed))[2:7]}] Seed {seed} Mean Score:', mean_score)\n",
        "\n",
        "print('\\n')\n",
        "print('Training completes.')"
      ],
      "execution_count": null,
      "outputs": [
        {
          "output_type": "stream",
          "text": [
            "Training begins.\n",
            "\n",
            "\n",
            "[00:56] Seed 0, Fold 0: 0.020102333277463913\n",
            "[00:57] Seed 0, Fold 1: 0.02104920521378517\n",
            "[00:55] Seed 0, Fold 2: 0.020982926711440086\n",
            "[00:55] Seed 0, Fold 3: 0.019703978672623634\n",
            "[00:56] Seed 0, Fold 4: 0.021009119227528572\n",
            "[04:42] Seed 0 Mean Score: 0.020569512620568275\n",
            "[00:55] Seed 1, Fold 0: 0.02101180888712406\n",
            "[00:56] Seed 1, Fold 1: 0.019705820828676224\n",
            "[00:56] Seed 1, Fold 2: 0.020111212506890297\n",
            "[00:55] Seed 1, Fold 3: 0.02004990540444851\n",
            "[00:55] Seed 1, Fold 4: 0.019788216799497604\n",
            "[04:41] Seed 1 Mean Score: 0.020133392885327336\n",
            "[00:55] Seed 2, Fold 0: 0.020737184211611748\n",
            "[00:55] Seed 2, Fold 1: 0.019763052463531494\n",
            "[00:56] Seed 2, Fold 2: 0.0207147765904665\n",
            "[00:55] Seed 2, Fold 3: 0.019761722534894943\n",
            "[00:55] Seed 2, Fold 4: 0.019618801772594452\n",
            "[04:39] Seed 2 Mean Score: 0.02011910751461983\n",
            "\n",
            "\n",
            "Training completes.\n"
          ],
          "name": "stdout"
        }
      ]
    },
    {
      "cell_type": "markdown",
      "metadata": {
        "id": "Y6I0Rl-iwyIB"
      },
      "source": [
        "# Illustrate Mean Log Loss"
      ]
    },
    {
      "cell_type": "code",
      "metadata": {
        "colab": {
          "base_uri": "https://localhost:8080/"
        },
        "id": "IWg20pdgw1Oa",
        "outputId": "0f7409f5-5e2d-4245-8468-962a63098db7"
      },
      "source": [
        "print(f'NODE OOF Metric: {metric(test_features_y1_processed, res, test_features_y1_processed)}')"
      ],
      "execution_count": null,
      "outputs": [
        {
          "output_type": "stream",
          "text": [
            "NODE OOF Metric: 0.020516105388299354\n"
          ],
          "name": "stdout"
        }
      ]
    },
    {
      "cell_type": "markdown",
      "metadata": {
        "id": "b4ZHnXl2HFyc"
      },
      "source": [
        "# Plot Loss and Accuracy vs. Epochs"
      ]
    },
    {
      "cell_type": "code",
      "metadata": {
        "id": "qiasOb9m_oLI",
        "colab": {
          "base_uri": "https://localhost:8080/",
          "height": 567
        },
        "outputId": "cd7ba819-4edc-4f7a-e343-770332e60be5"
      },
      "source": [
        "# Get average loss and validation loss out of all folds\n",
        "mean_loss,mean_val_loss = get_average_metrics_out_of_cv_folds(hist_total_list)\n",
        "loss_arr = np.vstack([mean_loss, mean_val_loss]).T\n",
        "np.save('loss_arr_DNN_baseline.npy', loss_arr)\n",
        "# Plot Loss and Accuracy vs. Epochs\n",
        "plt.figure()\n",
        "plt.plot(np.arange(1,len(mean_loss)+1,1),np.array(mean_loss),'-s',lw=4,label=r'$loss_{training}$',c='r')\n",
        "plt.plot(np.arange(1,len(mean_val_loss )+1,1),np.array(mean_val_loss ),'--o',lw=4,label=r'$loss_{validation}$',c='r')\n",
        "plt.ylabel('Loss',fontsize = 25,fontweight='bold')\n",
        "plt.xlabel(\"Epochs\",fontsize = 25,fontweight='bold')\n",
        "plt.legend(loc=1,frameon=False)\n",
        "plt.show()"
      ],
      "execution_count": null,
      "outputs": [
        {
          "output_type": "display_data",
          "data": {
            "image/png": "[encoded data removed]",
            "text/plain": [
              "<Figure size 921.6x633.6 with 1 Axes>"
            ]
          },
          "metadata": {
            "tags": [],
            "needs_background": "light"
          }
        }
      ]
    },
    {
      "cell_type": "markdown",
      "metadata": {
        "id": "RkUEE7zTGdP2"
      },
      "source": [
        "# Show Model Architecture"
      ]
    },
    {
      "cell_type": "code",
      "metadata": {
        "colab": {
          "base_uri": "https://localhost:8080/"
        },
        "id": "gy9hijZWmFdG",
        "outputId": "f43553f4-c217-4611-bdeb-e9bea87221af"
      },
      "source": [
        "model.summary()"
      ],
      "execution_count": null,
      "outputs": [
        {
          "output_type": "stream",
          "text": [
            "Model: \"functional_9\"\n",
            "_________________________________________________________________\n",
            "Layer (type)                 Output Shape              Param #   \n",
            "=================================================================\n",
            "input_5 (InputLayer)         [(None, 877)]             0         \n",
            "_________________________________________________________________\n",
            "dense_20 (Dense)             (None, 250)               219500    \n",
            "_________________________________________________________________\n",
            "dropout_20 (Dropout)         (None, 250)               0         \n",
            "_________________________________________________________________\n",
            "dense_21 (Dense)             (None, 250)               62750     \n",
            "_________________________________________________________________\n",
            "dropout_21 (Dropout)         (None, 250)               0         \n",
            "_________________________________________________________________\n",
            "dense_22 (Dense)             (None, 250)               62750     \n",
            "_________________________________________________________________\n",
            "dropout_22 (Dropout)         (None, 250)               0         \n",
            "_________________________________________________________________\n",
            "dense_23 (Dense)             (None, 250)               62750     \n",
            "_________________________________________________________________\n",
            "dropout_23 (Dropout)         (None, 250)               0         \n",
            "_________________________________________________________________\n",
            "last_frozen (Dense)          (None, 250)               62750     \n",
            "_________________________________________________________________\n",
            "dropout_24 (Dropout)         (None, 250)               0         \n",
            "_________________________________________________________________\n",
            "dense_24 (Dense)             (None, 206)               51706     \n",
            "=================================================================\n",
            "Total params: 522,206\n",
            "Trainable params: 522,206\n",
            "Non-trainable params: 0\n",
            "_________________________________________________________________\n"
          ],
          "name": "stdout"
        }
      ]
    }
  ]
}