{
  "nbformat": 4,
  "nbformat_minor": 0,
  "metadata": {
    "kernelspec": {
      "display_name": "Python 3",
      "language": "python",
      "name": "python3"
    },
    "language_info": {
      "codemirror_mode": {
        "name": "ipython",
        "version": 3
      },
      "file_extension": ".py",
      "mimetype": "text/x-python",
      "name": "python",
      "nbconvert_exporter": "python",
      "pygments_lexer": "ipython3",
      "version": "3.7.2"
    },
    "colab": {
      "name": "MoA_DNN_clean.ipynb",
      "provenance": [],
      "collapsed_sections": [],
      "machine_shape": "hm"
    },
    "accelerator": "GPU"
  },
  "cells": [
    {
      "cell_type": "markdown",
      "metadata": {
        "id": "SQ9O9KKKl4PN"
      },
      "source": [
        "# Install Necessary Pacakges"
      ]
    },
    {
      "cell_type": "code",
      "metadata": {
        "colab": {
          "base_uri": "https://localhost:8080/"
        },
        "id": "XE7rI9rAl4uA",
        "outputId": "fbe3bbfa-6d20-4b62-eabf-36f6cfbaaf05"
      },
      "source": [
        "! pip install iterative-stratification"
      ],
      "execution_count": 4,
      "outputs": [
        {
          "output_type": "stream",
          "text": [
            "Collecting iterative-stratification\n",
            "  Downloading https://files.pythonhosted.org/packages/9d/79/9ba64c8c07b07b8b45d80725b2ebd7b7884701c1da34f70d4749f7b45f9a/iterative_stratification-0.1.6-py3-none-any.whl\n",
            "Requirement already satisfied: numpy in /usr/local/lib/python3.6/dist-packages (from iterative-stratification) (1.18.5)\n",
            "Requirement already satisfied: scikit-learn in /usr/local/lib/python3.6/dist-packages (from iterative-stratification) (0.22.2.post1)\n",
            "Requirement already satisfied: scipy in /usr/local/lib/python3.6/dist-packages (from iterative-stratification) (1.4.1)\n",
            "Requirement already satisfied: joblib>=0.11 in /usr/local/lib/python3.6/dist-packages (from scikit-learn->iterative-stratification) (0.17.0)\n",
            "Installing collected packages: iterative-stratification\n",
            "Successfully installed iterative-stratification-0.1.6\n"
          ],
          "name": "stdout"
        }
      ]
    },
    {
      "cell_type": "markdown",
      "metadata": {
        "id": "XnucGE03N6qw"
      },
      "source": [
        "# Unzip and Create Data File"
      ]
    },
    {
      "cell_type": "code",
      "metadata": {
        "id": "KcBITMcSOCQg",
        "colab": {
          "base_uri": "https://localhost:8080/"
        },
        "outputId": "699f3903-85ce-4f78-a3b3-9018edb68833"
      },
      "source": [
        "# alternative, use google colab and google drive\n",
        "# from google.colab import drive\n",
        "# drive.mount('/content/drive')\n",
        "\n",
        "!mkdir moa_data\n",
        "%cd moa_data\n",
        "!unzip /content/lish-moa.zip\n",
        "%cd /content/"
      ],
      "execution_count": 2,
      "outputs": [
        {
          "output_type": "stream",
          "text": [
            "mkdir: cannot create directory ‘moa_data’: File exists\n",
            "/content/moa_data\n",
            "Archive:  /content/lish-moa.zip\n",
            "  inflating: sample_submission.csv   \n",
            "  inflating: test_features.csv       \n",
            "  inflating: train_drug.csv          \n",
            "  inflating: train_features.csv      \n",
            "  inflating: train_targets_nonscored.csv  \n",
            "  inflating: train_targets_scored.csv  \n",
            "/content\n"
          ],
          "name": "stdout"
        }
      ]
    },
    {
      "cell_type": "markdown",
      "metadata": {
        "id": "QkvRvJ4j_JjN"
      },
      "source": [
        "# Import Necessary Packages"
      ]
    },
    {
      "cell_type": "code",
      "metadata": {
        "id": "a8Q-5vCl_M2G"
      },
      "source": [
        "import datetime\n",
        "from iterstrat.ml_stratifiers import MultilabelStratifiedKFold\n",
        "from IPython.display import SVG\n",
        "import keras\n",
        "from keras import layers\n",
        "from keras.utils.vis_utils import model_to_dot\n",
        "import matplotlib.pyplot as plt\n",
        "import numpy as np\n",
        "import pandas as pd\n",
        "import sklearn\n",
        "import tensorflow as tf\n",
        "import tensorflow.keras.backend as K\n",
        "from tensorflow.keras.callbacks import ReduceLROnPlateau, EarlyStopping\n",
        "from time import time\n",
        "import warnings\n",
        "plt.style.use('seaborn-poster')\n",
        "warnings.filterwarnings(\"ignore\")"
      ],
      "execution_count": 5,
      "outputs": []
    },
    {
      "cell_type": "markdown",
      "metadata": {
        "id": "v2StKULiAKkj"
      },
      "source": [
        "# Custom Function Define"
      ]
    },
    {
      "cell_type": "code",
      "metadata": {
        "id": "4Ji4XUL8AM6L"
      },
      "source": [
        "def df_pre_processing(raw_df, type='training', verbose=True):\n",
        "    # expand features 2 non-numerical features 'cp_type', 'cp_dose' to 4 dummy \n",
        "    # features based on categorical values \n",
        "    processed_df = pd.concat([raw_df, pd.get_dummies(raw_df['cp_dose'], prefix='cp_dose')], axis=1)\n",
        "    processed_df = pd.concat([processed_df, pd.get_dummies(raw_df['cp_type'], \\\n",
        "                                                                           prefix='cp_type')], axis=1)\n",
        "\n",
        "    # drop the three original features\n",
        "    processed_df = processed_df.drop(['cp_type', 'cp_dose'], axis=1)\n",
        "\n",
        "    # removed the samples with wrong cp_type -- removed 1866 samples\n",
        "    processed_df = processed_df.loc[processed_df['cp_type_trt_cp']==1].reset_index(drop=True)\n",
        "\n",
        "    # drop the original sig_id column\n",
        "    processed_df = processed_df.drop(columns='sig_id')\n",
        "\n",
        "    # show shape of processed df\n",
        "    if verbose:\n",
        "        print(f\"Processed {type} dataset shape = {processed_df.shape}.\")\n",
        "        \n",
        "    return processed_df\n",
        "\n",
        "# -----------------------------------------------------------------------------#\n",
        "\n",
        "def create_DNN_base_line_model(input_dim = 877,\n",
        "                               first_layer_dim = 300,\n",
        "                               second_layer_dim = 300,\n",
        "                               third_layer_dim = 300,\n",
        "                               first_kernel_layer_dim = 300, \n",
        "                               second_kernel_layer_dim = 206, \n",
        "                               output_layer_dim = 206, \n",
        "                               first_dropout_rate = 0.6,\n",
        "                               second_dropout_rate = 0.6,\n",
        "                               third_dropout_rate = 0.6,\n",
        "                               first_layer_activation_func = 'relu', \n",
        "                               second_layer_activation_func = 'relu', \n",
        "                               third_layer_activation_func = 'relu',\n",
        "                               fourth_layer_activation_func = 'relu', \n",
        "                               first_kernel_initializer ='lecun_normal',\n",
        "                               second_kernel_initializer ='lecun_normal',\n",
        "                               first_kernel_layer_activation_func = 'selu',\n",
        "                               second_kernel_layer_activation_func = 'selu', \n",
        "                               output_activation_func = 'sigmoid'):\n",
        "\n",
        "    # Create DNN base line model using keras\n",
        "    # sequential style and active drop out layers\n",
        "    # write it as function for potential opportunities\n",
        "    # to optimize the model\n",
        "    input_layer = keras.Input(shape=(input_dim,))\n",
        "    first_layer = layers.Dense(first_layer_dim, activation=first_layer_activation_func)(input_layer)\n",
        "    first_dropout_layer = layers.Dropout(first_dropout_rate)(first_layer )\n",
        "    second_layer = layers.Dense(second_layer_dim, activation=second_layer_activation_func)(first_dropout_layer)\n",
        "    second_dropout_layer = layers.Dropout(second_dropout_rate)( second_layer )\n",
        "    third_layer = layers.Dense(second_layer_dim, activation=second_layer_activation_func)(second_dropout_layer)\n",
        "    third_dropout_layer = layers.Dropout(third_dropout_rate)( third_layer )\n",
        "    first_kernel_layer = layers.Dense(first_kernel_layer_dim, kernel_initializer = first_kernel_initializer, activation = first_kernel_layer_activation_func, name = 'last_frozen' )(third_dropout_layer)\n",
        "    second_kernel_layer = layers.Dense(second_kernel_layer_dim, kernel_initializer = second_kernel_initializer, activation = first_kernel_layer_activation_func)(first_kernel_layer)\n",
        "    output_layer = layers.Dense(output_layer_dim, activation=output_activation_func)(second_kernel_layer)\n",
        "    DNN_model =  keras.Model(input_layer, output_layer)\n",
        "    return DNN_model\n",
        "\n",
        "# -----------------------------------------------------------------------------#\n",
        "\n",
        "def get_average_metrics_out_of_cv_folds(history_list):\n",
        "    # Derive total number of folds and \n",
        "    # total number epochs\n",
        "    total_n_folds = len(history_list)\n",
        "    total_epochs = len(hist_total_list[0].history['loss'])\n",
        "    mean_loss = np.zeros([total_n_folds,total_epochs])\n",
        "    mean_val_loss = np.zeros([total_n_folds,total_epochs])\n",
        "    \n",
        "    # Put loss and validation loss in each fold\n",
        "    for i in range(total_n_folds):\n",
        "        mean_loss[i,:] = history_list[i].history['loss']\n",
        "        mean_val_loss[i,:] = history_list[i].history['val_loss']\n",
        "\n",
        "    # Get average loss and validation loss\n",
        "    mean_loss = np.mean(mean_loss,axis=0)\n",
        "    mean_val_loss  = np.mean(mean_val_loss ,axis=0)\n",
        "    return mean_loss, mean_val_loss"
      ],
      "execution_count": 6,
      "outputs": []
    },
    {
      "cell_type": "markdown",
      "metadata": {
        "id": "_9xzA05I_obI"
      },
      "source": [
        "# Partition and Preprocess Training-Testing Data"
      ]
    },
    {
      "cell_type": "code",
      "metadata": {
        "id": "fV74qPZz9YBF",
        "colab": {
          "base_uri": "https://localhost:8080/"
        },
        "outputId": "59332d4b-9256-47b2-cd17-8ce92e435f41"
      },
      "source": [
        "data_path = \"moa_data/\"\n",
        "# data_path = \"/content/drive/MyDrive/Colab Notebooks/MoA/lish-moa/\"\n",
        "\n",
        "# Load in data set\n",
        "train_features_y1 = pd.read_csv(data_path + \"train_targets_scored.csv\")\n",
        "train_features1 = pd.read_csv(data_path + \"train_features.csv\")\n",
        "\n",
        "\n",
        "# Preprocess training feature \n",
        "train_features1_processed = df_pre_processing(train_features1, type='training', verbose=True)\n",
        "\n",
        "# Preprocess training labels\n",
        "train_features_y1_processed  = train_features_y1.loc[train_features1['cp_type']=='trt_cp'].reset_index(drop=True)\n",
        "train_features_y1_processed = train_features_y1_processed.drop(\"sig_id\", axis= 1)"
      ],
      "execution_count": 7,
      "outputs": [
        {
          "output_type": "stream",
          "text": [
            "Processed training dataset shape = (21948, 877).\n"
          ],
          "name": "stdout"
        }
      ]
    },
    {
      "cell_type": "markdown",
      "metadata": {
        "id": "0ueHuuI0kSfi"
      },
      "source": [
        "# Apply CV Scheme Into Training the Baseline DNN"
      ]
    },
    {
      "cell_type": "code",
      "metadata": {
        "colab": {
          "base_uri": "https://localhost:8080/"
        },
        "id": "A3NbJp7Jj67E",
        "outputId": "ee23a8ff-33a8-4538-96e2-84f8ee3bf56b"
      },
      "source": [
        "# Total number of fitting = N_STARTS x N_SPLITS\n",
        "N_STARTS = 3\n",
        "N_SPLITS = 3\n",
        "res = train_features1_processed.copy()\n",
        "res.loc[:, train_features_y1_processed.columns] = 0\n",
        "hist_total_list = []\n",
        "\n",
        "for seed in range(N_STARTS):\n",
        "    start_time_seed = time()\n",
        "    K.clear_session()\n",
        "    tf.random.set_seed(seed)\n",
        "    mean_score = 0\n",
        "    # Splitting scheme: StratifiedKFold\n",
        "    skf = MultilabelStratifiedKFold(n_splits = N_SPLITS, random_state = 42, shuffle = True)\n",
        "    for n, (tr, te) in enumerate(skf.split(train_features_y1_processed, train_features_y1_processed)):\n",
        "        \n",
        "        start_time_fold = time()\n",
        "        x_tr, x_val = train_features1_processed, train_features1_processed\n",
        "        y_tr, y_val = train_features_y1_processed, train_features_y1_processed\n",
        "\n",
        "        # Generate and compile new models    \n",
        "        model = create_DNN_base_line_model()\n",
        "        model.compile(optimizer=\"Nadam\", loss = \"BinaryCrossentropy\") \n",
        "        \n",
        "        # Set up early stopper and adaptative learning rate\n",
        "        rlr = ReduceLROnPlateau(monitor = 'val_loss', factor = 0.1, patience = 3, \n",
        "                                verbose = 0, min_delta = 1e-4, mode = 'min')\n",
        "        es = EarlyStopping(monitor = 'val_loss', min_delta = 1e-4, patience = 10, mode = 'min', \n",
        "                           baseline = None, restore_best_weights = True, verbose = 0)\n",
        "        history = model.fit(x_tr, y_tr, validation_data = (x_val, y_val), epochs = 10, \n",
        "                            batch_size = 32, callbacks = [rlr, es], verbose = 0)\n",
        "        \n",
        "        hist_total_list.append(history)\n",
        "        hist = pd.DataFrame(history.history)\n",
        "        fold_score = hist['val_loss'].min()\n",
        "        mean_score += fold_score / N_SPLITS\n",
        "        val_predict = model.predict(train_features1_processed.values[te])\n",
        "        res.loc[te, train_features_y1_processed.columns] += val_predict / N_STARTS\n",
        "        print(f'[{str(datetime.timedelta(seconds = time() - start_time_fold))[2:7]}] Seed {seed}, Fold {n}:', fold_score)\n",
        "    print(f'[{str(datetime.timedelta(seconds = time() - start_time_seed))[2:7]}] Seed {seed} Mean Score:', mean_score)"
      ],
      "execution_count": 8,
      "outputs": [
        {
          "output_type": "stream",
          "text": [
            "[00:52] Seed 0, Fold 0: 0.017173973843455315\n",
            "[00:44] Seed 0, Fold 1: 0.01709113083779812\n",
            "[00:43] Seed 0, Fold 2: 0.017116349190473557\n",
            "[02:22] Seed 0 Mean Score: 0.017127151290575664\n",
            "[00:44] Seed 1, Fold 0: 0.01725771278142929\n",
            "[00:45] Seed 1, Fold 1: 0.017148735001683235\n",
            "[00:44] Seed 1, Fold 2: 0.0172832440584898\n",
            "[02:16] Seed 1 Mean Score: 0.017229897280534107\n",
            "[00:44] Seed 2, Fold 0: 0.017247596755623817\n",
            "[00:44] Seed 2, Fold 1: 0.017177265137434006\n",
            "[00:44] Seed 2, Fold 2: 0.01723196543753147\n",
            "[02:15] Seed 2 Mean Score: 0.017218942443529766\n"
          ],
          "name": "stdout"
        }
      ]
    },
    {
      "cell_type": "markdown",
      "metadata": {
        "id": "b4ZHnXl2HFyc"
      },
      "source": [
        "# Plot Loss and Accuracy vs. Epochs"
      ]
    },
    {
      "cell_type": "code",
      "metadata": {
        "id": "qiasOb9m_oLI",
        "colab": {
          "base_uri": "https://localhost:8080/",
          "height": 567
        },
        "outputId": "3b5746b9-b5c9-495b-eb3d-e87a0f526812"
      },
      "source": [
        "# Get average loss and validation loss out of all folds\n",
        "mean_loss,mean_val_loss = get_average_metrics_out_of_cv_folds(hist_total_list)\n",
        "\n",
        "# Plot Loss and Accuracy vs. Epochs\n",
        "plt.figure()\n",
        "plt.plot(np.arange(1,len(mean_loss)+1,1),np.array(mean_loss),'-s',lw=4,label=r'$loss_{training}$',c='r')\n",
        "plt.plot(np.arange(1,len(mean_val_loss )+1,1),np.array(mean_val_loss ),'--o',lw=4,label=r'$loss_{validation}$',c='r')\n",
        "plt.ylabel('Loss',fontsize = 25,fontweight='bold')\n",
        "plt.xlabel(\"Epochs\",fontsize = 25,fontweight='bold')\n",
        "plt.legend(loc=1,frameon=False)\n",
        "plt.show()"
      ],
      "execution_count": 9,
      "outputs": [
        {
          "output_type": "display_data",
          "data": {
            "image/png": "[encoded data removed]",
            "text/plain": [
              "<Figure size 921.6x633.6 with 1 Axes>"
            ]
          },
          "metadata": {
            "tags": [],
            "needs_background": "light"
          }
        }
      ]
    },
    {
      "cell_type": "markdown",
      "metadata": {
        "id": "RkUEE7zTGdP2"
      },
      "source": [
        "# Show Model Architecture"
      ]
    },
    {
      "cell_type": "code",
      "metadata": {
        "id": "KACUGNCUGgty",
        "colab": {
          "base_uri": "https://localhost:8080/"
        },
        "outputId": "050e724c-f957-4108-e3f8-906363fdb999"
      },
      "source": [
        "print('Model Summary for DNN Baseline Model: ')\n",
        "SVG(model_to_dot(model, show_shapes=True, show_layer_names=False, \n",
        "                 rankdir='TB', dpi=60).create(prog='dot', format='svg'))\n",
        "\n",
        "print('\\n')\n",
        "print(model.summary())"
      ],
      "execution_count": 10,
      "outputs": [
        {
          "output_type": "stream",
          "text": [
            "Model Summary for DNN Baseline Model: \n",
            "\n",
            "\n",
            "Model: \"functional_5\"\n",
            "_________________________________________________________________\n",
            "Layer (type)                 Output Shape              Param #   \n",
            "=================================================================\n",
            "input_3 (InputLayer)         [(None, 877)]             0         \n",
            "_________________________________________________________________\n",
            "dense_10 (Dense)             (None, 300)               263400    \n",
            "_________________________________________________________________\n",
            "dropout_6 (Dropout)          (None, 300)               0         \n",
            "_________________________________________________________________\n",
            "dense_11 (Dense)             (None, 300)               90300     \n",
            "_________________________________________________________________\n",
            "dropout_7 (Dropout)          (None, 300)               0         \n",
            "_________________________________________________________________\n",
            "dense_12 (Dense)             (None, 300)               90300     \n",
            "_________________________________________________________________\n",
            "dropout_8 (Dropout)          (None, 300)               0         \n",
            "_________________________________________________________________\n",
            "last_frozen (Dense)          (None, 300)               90300     \n",
            "_________________________________________________________________\n",
            "dense_13 (Dense)             (None, 206)               62006     \n",
            "_________________________________________________________________\n",
            "dense_14 (Dense)             (None, 206)               42642     \n",
            "=================================================================\n",
            "Total params: 638,948\n",
            "Trainable params: 638,948\n",
            "Non-trainable params: 0\n",
            "_________________________________________________________________\n",
            "None\n"
          ],
          "name": "stdout"
        }
      ]
    }
  ]
}