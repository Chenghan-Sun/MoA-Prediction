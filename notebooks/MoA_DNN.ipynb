{
  "nbformat": 4,
  "nbformat_minor": 0,
  "metadata": {
    "kernelspec": {
      "display_name": "Python 3",
      "language": "python",
      "name": "python3"
    },
    "language_info": {
      "codemirror_mode": {
        "name": "ipython",
        "version": 3
      },
      "file_extension": ".py",
      "mimetype": "text/x-python",
      "name": "python",
      "nbconvert_exporter": "python",
      "pygments_lexer": "ipython3",
      "version": "3.7.2"
    },
    "colab": {
      "name": "MoA_baseline.ipynb",
      "provenance": [],
      "collapsed_sections": [],
      "toc_visible": true,
      "machine_shape": "hm"
    },
    "accelerator": "GPU"
  },
  "cells": [
    {
      "cell_type": "code",
      "metadata": {
        "colab": {
          "base_uri": "https://localhost:8080/"
        },
        "id": "fV74qPZz9YBF",
        "outputId": "9dcdaa1f-8b11-42bc-d872-55690039cf0c"
      },
      "source": [
        "import numpy as np\n",
        "import pandas as pd\n",
        "import tensorflow as tf\n",
        "import matplotlib.pyplot as plt\n",
        "from sklearn.preprocessing import OneHotEncoder \n",
        "from sklearn.preprocessing import LabelEncoder\n",
        "import sklearn\n",
        "from sklearn.model_selection import train_test_split\n",
        "import tensorflow_addons as tfa\n",
        "from sklearn.metrics import roc_auc_score\n",
        "from sklearn.model_selection import KFold\n",
        "from tensorflow.keras.layers import Dense, Conv2D, Dropout, Activation, MaxPooling2D, Flatten\n",
        "\n",
        "\n",
        "# data_path = \"../moa_data/\"\n",
        "\n",
        "# alternative, use google colab and google drive\n",
        "from google.colab import drive\n",
        "drive.mount('/content/drive')\n",
        "data_path = \"/content/drive/MyDrive/Colab Notebooks/MoA/lish-moa/\"\n",
        "\n",
        "\n",
        "train_features_y1 = pd.read_csv(data_path + \"train_targets_scored.csv\")\n",
        "train_features1 = pd.read_csv(data_path + \"train_features.csv\")\n",
        "\n",
        "test_features1 = pd.read_csv(data_path + \"test_features.csv\")\n",
        "\n",
        "sample1 = pd.read_csv(data_path + \"sample_submission.csv\")\n",
        "test_features1.describe()\n",
        "\n",
        "\n",
        "train_features_y1 = train_features_y1.drop(\"sig_id\", axis= 1)\n",
        "train_features1= np.array(train_features1)\n",
        "\n",
        "test_features1= np.array(test_features1)\n",
        "\n",
        "train_features_y1= np.array(train_features_y1)\n",
        "le = LabelEncoder()\n",
        "\n",
        "train_features1[:, 0] = le.fit_transform(train_features1[:, 0])\n",
        "test_features1[:, 0] = le.fit_transform(test_features1[:, 0])\n",
        "\n",
        "train_features1[:, 1] = le.fit_transform(train_features1[:, 1])\n",
        "train_features1[:, 3] = le.fit_transform(train_features1[:, 3])\n",
        "test_features1[:, 1] = le.fit_transform(test_features1[:, 1])\n",
        "test_features1[:, 3] = le.fit_transform(test_features1[:, 3])\n",
        "\n",
        "\n",
        "train_features_y1  = np.asarray(train_features_y1).astype('float32')\n",
        "train_features1  = np.asarray(train_features1).astype('float32')\n",
        "test_features1  = np.asarray(test_features1).astype('float32')\n",
        "train_features_y1  = tf.keras.utils.normalize(train_features_y1, axis=-1, order=2)\n",
        "train_features1 = tf.keras.utils.normalize(train_features1, axis=-1, order=2)\n",
        "test_features1 = tf.keras.utils.normalize(test_features1, axis=-1, order=2)\n",
        "\n",
        "X_train, X_test, y_train, y_test = train_test_split(train_features1, train_features_y1, test_size = 0.01, random_state = 101)\n",
        "\n",
        "def auc(y_test, y_train):\n",
        "    return tf.py_function(roc_auc_score, (y_test, y_train), tf.double)\n",
        "\n"
      ],
      "execution_count": 14,
      "outputs": [
        {
          "output_type": "stream",
          "text": [
            "Drive already mounted at /content/drive; to attempt to forcibly remount, call drive.mount(\"/content/drive\", force_remount=True).\n"
          ],
          "name": "stdout"
        }
      ]
    },
    {
      "cell_type": "code",
      "metadata": {
        "id": "pfKHYhUVnZTu",
        "colab": {
          "base_uri": "https://localhost:8080/",
          "height": 1000
        },
        "outputId": "f32f233e-af08-464e-dacc-8e60ca88e033"
      },
      "source": [
        "       \n",
        "model = tf.keras.models.Sequential()\n",
        "model.add(Flatten())\n",
        "\n",
        "tf.keras.layers.BatchNormalization \n",
        "model.add(tf.keras.layers.Dense(480, activation=\"relu\")) \n",
        "tf.keras.layers.BatchNormalization  \n",
        "tf.keras.layers.Dropout(0.20) \n",
        "model.add(tf.keras.layers.Dense(480, activation=\"relu\"))  \n",
        "tf.keras.layers.BatchNormalization\n",
        "tf.keras.layers.Dropout(0.20)\n",
        "model.add(tf.keras.layers.Dense(480, activation=\"relu\")) \n",
        "tf.keras.layers.BatchNormalization\n",
        "model.add(tf.keras.layers.Dense(480, activation=\"relu\")) \n",
        "tf.keras.layers.BatchNormalization\n",
        "tf.keras.layers.Dropout(0.20)\n",
        "model.add(tf.keras.layers.Dense(480, kernel_initializer='lecun_normal', activation='selu', name = 'last_frozen' ))\n",
        "tf.keras.layers.BatchNormalization\n",
        "model.add(tf.keras.layers.Dense(206, kernel_initializer='lecun_normal', activation='selu'))\n",
        "tf.keras.layers.BatchNormalization  \n",
        "model.add(tf.keras.layers.Dense(206, activation=\"sigmoid\"))\n",
        "        "
      ],
      "execution_count": 16,
      "outputs": [
        {
          "output_type": "stream",
          "text": [
            "737/737 [==============================] - 4s 6ms/step - loss: 0.0244 - auc_5: 0.6905\n",
            "Model: \"sequential_8\"\n",
            "_________________________________________________________________\n",
            "Layer (type)                 Output Shape              Param #   \n",
            "=================================================================\n",
            "flatten_8 (Flatten)          (None, 876)               0         \n",
            "_________________________________________________________________\n",
            "dense_32 (Dense)             (None, 480)               420960    \n",
            "_________________________________________________________________\n",
            "dense_33 (Dense)             (None, 480)               230880    \n",
            "_________________________________________________________________\n",
            "dense_34 (Dense)             (None, 480)               230880    \n",
            "_________________________________________________________________\n",
            "dense_35 (Dense)             (None, 480)               230880    \n",
            "_________________________________________________________________\n",
            "last_frozen (Dense)          (None, 480)               230880    \n",
            "_________________________________________________________________\n",
            "dense_36 (Dense)             (None, 206)               99086     \n",
            "_________________________________________________________________\n",
            "dense_37 (Dense)             (None, 206)               42642     \n",
            "=================================================================\n",
            "Total params: 1,486,208\n",
            "Trainable params: 1,486,208\n",
            "Non-trainable params: 0\n",
            "_________________________________________________________________\n"
          ],
          "name": "stdout"
        },
        {
          "output_type": "execute_result",
          "data": {
            "text/plain": [
              "<IPython.core.display.SVG object>"
            ],
            "image/svg+xml": "<svg height=\"599pt\" viewBox=\"0.00 0.00 217.00 719.00\" width=\"181pt\" xmlns=\"http://www.w3.org/2000/svg\" xmlns:xlink=\"http://www.w3.org/1999/xlink\">\n<g class=\"graph\" id=\"graph0\" transform=\"scale(.8333 .8333) rotate(0) translate(4 715)\">\n<title>G</title>\n<polygon fill=\"#ffffff\" points=\"-4,4 -4,-715 213,-715 213,4 -4,4\" stroke=\"transparent\"/>\n<!-- 139910838914072 -->\n<g class=\"node\" id=\"node1\">\n<title>139910838914072</title>\n<polygon fill=\"none\" points=\"0,-664.5 0,-710.5 209,-710.5 209,-664.5 0,-664.5\" stroke=\"#000000\"/>\n<text fill=\"#000000\" font-family=\"Times,serif\" font-size=\"14.00\" text-anchor=\"middle\" x=\"40\" y=\"-683.8\">InputLayer</text>\n<polyline fill=\"none\" points=\"80,-664.5 80,-710.5 \" stroke=\"#000000\"/>\n<text fill=\"#000000\" font-family=\"Times,serif\" font-size=\"14.00\" text-anchor=\"middle\" x=\"109\" y=\"-695.3\">input:</text>\n<polyline fill=\"none\" points=\"80,-687.5 138,-687.5 \" stroke=\"#000000\"/>\n<text fill=\"#000000\" font-family=\"Times,serif\" font-size=\"14.00\" text-anchor=\"middle\" x=\"109\" y=\"-672.3\">output:</text>\n<polyline fill=\"none\" points=\"138,-664.5 138,-710.5 \" stroke=\"#000000\"/>\n<text fill=\"#000000\" font-family=\"Times,serif\" font-size=\"14.00\" text-anchor=\"middle\" x=\"173.5\" y=\"-695.3\">[(?, 876)]</text>\n<polyline fill=\"none\" points=\"138,-687.5 209,-687.5 \" stroke=\"#000000\"/>\n<text fill=\"#000000\" font-family=\"Times,serif\" font-size=\"14.00\" text-anchor=\"middle\" x=\"173.5\" y=\"-672.3\">[(?, 876)]</text>\n</g>\n<!-- 139910250352424 -->\n<g class=\"node\" id=\"node2\">\n<title>139910250352424</title>\n<polygon fill=\"none\" points=\"16.5,-581.5 16.5,-627.5 192.5,-627.5 192.5,-581.5 16.5,-581.5\" stroke=\"#000000\"/>\n<text fill=\"#000000\" font-family=\"Times,serif\" font-size=\"14.00\" text-anchor=\"middle\" x=\"44.5\" y=\"-600.8\">Flatten</text>\n<polyline fill=\"none\" points=\"72.5,-581.5 72.5,-627.5 \" stroke=\"#000000\"/>\n<text fill=\"#000000\" font-family=\"Times,serif\" font-size=\"14.00\" text-anchor=\"middle\" x=\"101.5\" y=\"-612.3\">input:</text>\n<polyline fill=\"none\" points=\"72.5,-604.5 130.5,-604.5 \" stroke=\"#000000\"/>\n<text fill=\"#000000\" font-family=\"Times,serif\" font-size=\"14.00\" text-anchor=\"middle\" x=\"101.5\" y=\"-589.3\">output:</text>\n<polyline fill=\"none\" points=\"130.5,-581.5 130.5,-627.5 \" stroke=\"#000000\"/>\n<text fill=\"#000000\" font-family=\"Times,serif\" font-size=\"14.00\" text-anchor=\"middle\" x=\"161.5\" y=\"-612.3\">(?, 876)</text>\n<polyline fill=\"none\" points=\"130.5,-604.5 192.5,-604.5 \" stroke=\"#000000\"/>\n<text fill=\"#000000\" font-family=\"Times,serif\" font-size=\"14.00\" text-anchor=\"middle\" x=\"161.5\" y=\"-589.3\">(?, 876)</text>\n</g>\n<!-- 139910838914072&#45;&gt;139910250352424 -->\n<g class=\"edge\" id=\"edge1\">\n<title>139910838914072-&gt;139910250352424</title>\n<path d=\"M104.5,-664.3799C104.5,-656.1745 104.5,-646.7679 104.5,-637.8786\" fill=\"none\" stroke=\"#000000\"/>\n<polygon fill=\"#000000\" points=\"108.0001,-637.784 104.5,-627.784 101.0001,-637.784 108.0001,-637.784\" stroke=\"#000000\"/>\n</g>\n<!-- 139908406903584 -->\n<g class=\"node\" id=\"node3\">\n<title>139908406903584</title>\n<polygon fill=\"none\" points=\"18.5,-498.5 18.5,-544.5 190.5,-544.5 190.5,-498.5 18.5,-498.5\" stroke=\"#000000\"/>\n<text fill=\"#000000\" font-family=\"Times,serif\" font-size=\"14.00\" text-anchor=\"middle\" x=\"44.5\" y=\"-517.8\">Dense</text>\n<polyline fill=\"none\" points=\"70.5,-498.5 70.5,-544.5 \" stroke=\"#000000\"/>\n<text fill=\"#000000\" font-family=\"Times,serif\" font-size=\"14.00\" text-anchor=\"middle\" x=\"99.5\" y=\"-529.3\">input:</text>\n<polyline fill=\"none\" points=\"70.5,-521.5 128.5,-521.5 \" stroke=\"#000000\"/>\n<text fill=\"#000000\" font-family=\"Times,serif\" font-size=\"14.00\" text-anchor=\"middle\" x=\"99.5\" y=\"-506.3\">output:</text>\n<polyline fill=\"none\" points=\"128.5,-498.5 128.5,-544.5 \" stroke=\"#000000\"/>\n<text fill=\"#000000\" font-family=\"Times,serif\" font-size=\"14.00\" text-anchor=\"middle\" x=\"159.5\" y=\"-529.3\">(?, 876)</text>\n<polyline fill=\"none\" points=\"128.5,-521.5 190.5,-521.5 \" stroke=\"#000000\"/>\n<text fill=\"#000000\" font-family=\"Times,serif\" font-size=\"14.00\" text-anchor=\"middle\" x=\"159.5\" y=\"-506.3\">(?, 480)</text>\n</g>\n<!-- 139910250352424&#45;&gt;139908406903584 -->\n<g class=\"edge\" id=\"edge2\">\n<title>139910250352424-&gt;139908406903584</title>\n<path d=\"M104.5,-581.3799C104.5,-573.1745 104.5,-563.7679 104.5,-554.8786\" fill=\"none\" stroke=\"#000000\"/>\n<polygon fill=\"#000000\" points=\"108.0001,-554.784 104.5,-544.784 101.0001,-554.784 108.0001,-554.784\" stroke=\"#000000\"/>\n</g>\n<!-- 139908406903304 -->\n<g class=\"node\" id=\"node4\">\n<title>139908406903304</title>\n<polygon fill=\"none\" points=\"18.5,-415.5 18.5,-461.5 190.5,-461.5 190.5,-415.5 18.5,-415.5\" stroke=\"#000000\"/>\n<text fill=\"#000000\" font-family=\"Times,serif\" font-size=\"14.00\" text-anchor=\"middle\" x=\"44.5\" y=\"-434.8\">Dense</text>\n<polyline fill=\"none\" points=\"70.5,-415.5 70.5,-461.5 \" stroke=\"#000000\"/>\n<text fill=\"#000000\" font-family=\"Times,serif\" font-size=\"14.00\" text-anchor=\"middle\" x=\"99.5\" y=\"-446.3\">input:</text>\n<polyline fill=\"none\" points=\"70.5,-438.5 128.5,-438.5 \" stroke=\"#000000\"/>\n<text fill=\"#000000\" font-family=\"Times,serif\" font-size=\"14.00\" text-anchor=\"middle\" x=\"99.5\" y=\"-423.3\">output:</text>\n<polyline fill=\"none\" points=\"128.5,-415.5 128.5,-461.5 \" stroke=\"#000000\"/>\n<text fill=\"#000000\" font-family=\"Times,serif\" font-size=\"14.00\" text-anchor=\"middle\" x=\"159.5\" y=\"-446.3\">(?, 480)</text>\n<polyline fill=\"none\" points=\"128.5,-438.5 190.5,-438.5 \" stroke=\"#000000\"/>\n<text fill=\"#000000\" font-family=\"Times,serif\" font-size=\"14.00\" text-anchor=\"middle\" x=\"159.5\" y=\"-423.3\">(?, 480)</text>\n</g>\n<!-- 139908406903584&#45;&gt;139908406903304 -->\n<g class=\"edge\" id=\"edge3\">\n<title>139908406903584-&gt;139908406903304</title>\n<path d=\"M104.5,-498.3799C104.5,-490.1745 104.5,-480.7679 104.5,-471.8786\" fill=\"none\" stroke=\"#000000\"/>\n<polygon fill=\"#000000\" points=\"108.0001,-471.784 104.5,-461.784 101.0001,-471.784 108.0001,-471.784\" stroke=\"#000000\"/>\n</g>\n<!-- 139910831200352 -->\n<g class=\"node\" id=\"node5\">\n<title>139910831200352</title>\n<polygon fill=\"none\" points=\"18.5,-332.5 18.5,-378.5 190.5,-378.5 190.5,-332.5 18.5,-332.5\" stroke=\"#000000\"/>\n<text fill=\"#000000\" font-family=\"Times,serif\" font-size=\"14.00\" text-anchor=\"middle\" x=\"44.5\" y=\"-351.8\">Dense</text>\n<polyline fill=\"none\" points=\"70.5,-332.5 70.5,-378.5 \" stroke=\"#000000\"/>\n<text fill=\"#000000\" font-family=\"Times,serif\" font-size=\"14.00\" text-anchor=\"middle\" x=\"99.5\" y=\"-363.3\">input:</text>\n<polyline fill=\"none\" points=\"70.5,-355.5 128.5,-355.5 \" stroke=\"#000000\"/>\n<text fill=\"#000000\" font-family=\"Times,serif\" font-size=\"14.00\" text-anchor=\"middle\" x=\"99.5\" y=\"-340.3\">output:</text>\n<polyline fill=\"none\" points=\"128.5,-332.5 128.5,-378.5 \" stroke=\"#000000\"/>\n<text fill=\"#000000\" font-family=\"Times,serif\" font-size=\"14.00\" text-anchor=\"middle\" x=\"159.5\" y=\"-363.3\">(?, 480)</text>\n<polyline fill=\"none\" points=\"128.5,-355.5 190.5,-355.5 \" stroke=\"#000000\"/>\n<text fill=\"#000000\" font-family=\"Times,serif\" font-size=\"14.00\" text-anchor=\"middle\" x=\"159.5\" y=\"-340.3\">(?, 480)</text>\n</g>\n<!-- 139908406903304&#45;&gt;139910831200352 -->\n<g class=\"edge\" id=\"edge4\">\n<title>139908406903304-&gt;139910831200352</title>\n<path d=\"M104.5,-415.3799C104.5,-407.1745 104.5,-397.7679 104.5,-388.8786\" fill=\"none\" stroke=\"#000000\"/>\n<polygon fill=\"#000000\" points=\"108.0001,-388.784 104.5,-378.784 101.0001,-388.784 108.0001,-388.784\" stroke=\"#000000\"/>\n</g>\n<!-- 139908406905824 -->\n<g class=\"node\" id=\"node6\">\n<title>139908406905824</title>\n<polygon fill=\"none\" points=\"18.5,-249.5 18.5,-295.5 190.5,-295.5 190.5,-249.5 18.5,-249.5\" stroke=\"#000000\"/>\n<text fill=\"#000000\" font-family=\"Times,serif\" font-size=\"14.00\" text-anchor=\"middle\" x=\"44.5\" y=\"-268.8\">Dense</text>\n<polyline fill=\"none\" points=\"70.5,-249.5 70.5,-295.5 \" stroke=\"#000000\"/>\n<text fill=\"#000000\" font-family=\"Times,serif\" font-size=\"14.00\" text-anchor=\"middle\" x=\"99.5\" y=\"-280.3\">input:</text>\n<polyline fill=\"none\" points=\"70.5,-272.5 128.5,-272.5 \" stroke=\"#000000\"/>\n<text fill=\"#000000\" font-family=\"Times,serif\" font-size=\"14.00\" text-anchor=\"middle\" x=\"99.5\" y=\"-257.3\">output:</text>\n<polyline fill=\"none\" points=\"128.5,-249.5 128.5,-295.5 \" stroke=\"#000000\"/>\n<text fill=\"#000000\" font-family=\"Times,serif\" font-size=\"14.00\" text-anchor=\"middle\" x=\"159.5\" y=\"-280.3\">(?, 480)</text>\n<polyline fill=\"none\" points=\"128.5,-272.5 190.5,-272.5 \" stroke=\"#000000\"/>\n<text fill=\"#000000\" font-family=\"Times,serif\" font-size=\"14.00\" text-anchor=\"middle\" x=\"159.5\" y=\"-257.3\">(?, 480)</text>\n</g>\n<!-- 139910831200352&#45;&gt;139908406905824 -->\n<g class=\"edge\" id=\"edge5\">\n<title>139910831200352-&gt;139908406905824</title>\n<path d=\"M104.5,-332.3799C104.5,-324.1745 104.5,-314.7679 104.5,-305.8786\" fill=\"none\" stroke=\"#000000\"/>\n<polygon fill=\"#000000\" points=\"108.0001,-305.784 104.5,-295.784 101.0001,-305.784 108.0001,-305.784\" stroke=\"#000000\"/>\n</g>\n<!-- 139908406905152 -->\n<g class=\"node\" id=\"node7\">\n<title>139908406905152</title>\n<polygon fill=\"none\" points=\"18.5,-166.5 18.5,-212.5 190.5,-212.5 190.5,-166.5 18.5,-166.5\" stroke=\"#000000\"/>\n<text fill=\"#000000\" font-family=\"Times,serif\" font-size=\"14.00\" text-anchor=\"middle\" x=\"44.5\" y=\"-185.8\">Dense</text>\n<polyline fill=\"none\" points=\"70.5,-166.5 70.5,-212.5 \" stroke=\"#000000\"/>\n<text fill=\"#000000\" font-family=\"Times,serif\" font-size=\"14.00\" text-anchor=\"middle\" x=\"99.5\" y=\"-197.3\">input:</text>\n<polyline fill=\"none\" points=\"70.5,-189.5 128.5,-189.5 \" stroke=\"#000000\"/>\n<text fill=\"#000000\" font-family=\"Times,serif\" font-size=\"14.00\" text-anchor=\"middle\" x=\"99.5\" y=\"-174.3\">output:</text>\n<polyline fill=\"none\" points=\"128.5,-166.5 128.5,-212.5 \" stroke=\"#000000\"/>\n<text fill=\"#000000\" font-family=\"Times,serif\" font-size=\"14.00\" text-anchor=\"middle\" x=\"159.5\" y=\"-197.3\">(?, 480)</text>\n<polyline fill=\"none\" points=\"128.5,-189.5 190.5,-189.5 \" stroke=\"#000000\"/>\n<text fill=\"#000000\" font-family=\"Times,serif\" font-size=\"14.00\" text-anchor=\"middle\" x=\"159.5\" y=\"-174.3\">(?, 480)</text>\n</g>\n<!-- 139908406905824&#45;&gt;139908406905152 -->\n<g class=\"edge\" id=\"edge6\">\n<title>139908406905824-&gt;139908406905152</title>\n<path d=\"M104.5,-249.3799C104.5,-241.1745 104.5,-231.7679 104.5,-222.8786\" fill=\"none\" stroke=\"#000000\"/>\n<polygon fill=\"#000000\" points=\"108.0001,-222.784 104.5,-212.784 101.0001,-222.784 108.0001,-222.784\" stroke=\"#000000\"/>\n</g>\n<!-- 139908406906776 -->\n<g class=\"node\" id=\"node8\">\n<title>139908406906776</title>\n<polygon fill=\"none\" points=\"18.5,-83.5 18.5,-129.5 190.5,-129.5 190.5,-83.5 18.5,-83.5\" stroke=\"#000000\"/>\n<text fill=\"#000000\" font-family=\"Times,serif\" font-size=\"14.00\" text-anchor=\"middle\" x=\"44.5\" y=\"-102.8\">Dense</text>\n<polyline fill=\"none\" points=\"70.5,-83.5 70.5,-129.5 \" stroke=\"#000000\"/>\n<text fill=\"#000000\" font-family=\"Times,serif\" font-size=\"14.00\" text-anchor=\"middle\" x=\"99.5\" y=\"-114.3\">input:</text>\n<polyline fill=\"none\" points=\"70.5,-106.5 128.5,-106.5 \" stroke=\"#000000\"/>\n<text fill=\"#000000\" font-family=\"Times,serif\" font-size=\"14.00\" text-anchor=\"middle\" x=\"99.5\" y=\"-91.3\">output:</text>\n<polyline fill=\"none\" points=\"128.5,-83.5 128.5,-129.5 \" stroke=\"#000000\"/>\n<text fill=\"#000000\" font-family=\"Times,serif\" font-size=\"14.00\" text-anchor=\"middle\" x=\"159.5\" y=\"-114.3\">(?, 480)</text>\n<polyline fill=\"none\" points=\"128.5,-106.5 190.5,-106.5 \" stroke=\"#000000\"/>\n<text fill=\"#000000\" font-family=\"Times,serif\" font-size=\"14.00\" text-anchor=\"middle\" x=\"159.5\" y=\"-91.3\">(?, 206)</text>\n</g>\n<!-- 139908406905152&#45;&gt;139908406906776 -->\n<g class=\"edge\" id=\"edge7\">\n<title>139908406905152-&gt;139908406906776</title>\n<path d=\"M104.5,-166.3799C104.5,-158.1745 104.5,-148.7679 104.5,-139.8786\" fill=\"none\" stroke=\"#000000\"/>\n<polygon fill=\"#000000\" points=\"108.0001,-139.784 104.5,-129.784 101.0001,-139.784 108.0001,-139.784\" stroke=\"#000000\"/>\n</g>\n<!-- 139910250394456 -->\n<g class=\"node\" id=\"node9\">\n<title>139910250394456</title>\n<polygon fill=\"none\" points=\"18.5,-.5 18.5,-46.5 190.5,-46.5 190.5,-.5 18.5,-.5\" stroke=\"#000000\"/>\n<text fill=\"#000000\" font-family=\"Times,serif\" font-size=\"14.00\" text-anchor=\"middle\" x=\"44.5\" y=\"-19.8\">Dense</text>\n<polyline fill=\"none\" points=\"70.5,-.5 70.5,-46.5 \" stroke=\"#000000\"/>\n<text fill=\"#000000\" font-family=\"Times,serif\" font-size=\"14.00\" text-anchor=\"middle\" x=\"99.5\" y=\"-31.3\">input:</text>\n<polyline fill=\"none\" points=\"70.5,-23.5 128.5,-23.5 \" stroke=\"#000000\"/>\n<text fill=\"#000000\" font-family=\"Times,serif\" font-size=\"14.00\" text-anchor=\"middle\" x=\"99.5\" y=\"-8.3\">output:</text>\n<polyline fill=\"none\" points=\"128.5,-.5 128.5,-46.5 \" stroke=\"#000000\"/>\n<text fill=\"#000000\" font-family=\"Times,serif\" font-size=\"14.00\" text-anchor=\"middle\" x=\"159.5\" y=\"-31.3\">(?, 206)</text>\n<polyline fill=\"none\" points=\"128.5,-23.5 190.5,-23.5 \" stroke=\"#000000\"/>\n<text fill=\"#000000\" font-family=\"Times,serif\" font-size=\"14.00\" text-anchor=\"middle\" x=\"159.5\" y=\"-8.3\">(?, 206)</text>\n</g>\n<!-- 139908406906776&#45;&gt;139910250394456 -->\n<g class=\"edge\" id=\"edge8\">\n<title>139908406906776-&gt;139910250394456</title>\n<path d=\"M104.5,-83.3799C104.5,-75.1745 104.5,-65.7679 104.5,-56.8786\" fill=\"none\" stroke=\"#000000\"/>\n<polygon fill=\"#000000\" points=\"108.0001,-56.784 104.5,-46.784 101.0001,-56.784 108.0001,-56.784\" stroke=\"#000000\"/>\n</g>\n</g>\n</svg>"
          },
          "metadata": {
            "tags": []
          },
          "execution_count": 16
        }
      ]
    },
    {
      "cell_type": "code",
      "metadata": {
        "colab": {
          "base_uri": "https://localhost:8080/",
          "height": 1000
        },
        "id": "e5Bmxz90qusk",
        "outputId": "b9ac7cc0-e939-421b-b1aa-b5c5abe70d60"
      },
      "source": [
        "\n",
        "model.fit(X_train, y_train, epochs=39)\n",
        "\n",
        "val_loss, val_acc = model.evaluate(X_test, y_test)\n",
        "\n",
        "print(\"loss \"+ str(val_loss))\n",
        "print(\"accuracy \"+ str(val_acc))\n",
        "predictions = model.predict(test_features1)\n",
        "predictions = np.clip(predictions, a_min = 0.001, a_max = 0.999)\n",
        "predictions = pd.DataFrame(predictions)\n",
        "predictions.head(10)\n",
        "target_name = ['5-alpha_reductase_inhibitor', '11-beta-hsd1_inhibitor', 'acat_inhibitor', 'acetylcholine_receptor_agonist', 'acetylcholine_receptor_antagonist', 'acetylcholinesterase_inhibitor', 'adenosine_receptor_agonist', 'adenosine_receptor_antagonist', 'adenylyl_cyclase_activator', 'adrenergic_receptor_agonist', 'adrenergic_receptor_antagonist', 'akt_inhibitor', 'aldehyde_dehydrogenase_inhibitor', 'alk_inhibitor', 'ampk_activator', 'analgesic', 'androgen_receptor_agonist', 'androgen_receptor_antagonist', 'anesthetic_-_local', 'angiogenesis_inhibitor', 'angiotensin_receptor_antagonist', 'anti-inflammatory', 'antiarrhythmic', 'antibiotic', 'anticonvulsant', 'antifungal', 'antihistamine', 'antimalarial', 'antioxidant', 'antiprotozoal', 'antiviral', 'apoptosis_stimulant', 'aromatase_inhibitor', 'atm_kinase_inhibitor', 'atp-sensitive_potassium_channel_antagonist', 'atp_synthase_inhibitor', 'atpase_inhibitor', 'atr_kinase_inhibitor', 'aurora_kinase_inhibitor', 'autotaxin_inhibitor', 'bacterial_30s_ribosomal_subunit_inhibitor', 'bacterial_50s_ribosomal_subunit_inhibitor', 'bacterial_antifolate', 'bacterial_cell_wall_synthesis_inhibitor', 'bacterial_dna_gyrase_inhibitor', 'bacterial_dna_inhibitor', 'bacterial_membrane_integrity_inhibitor', 'bcl_inhibitor', 'bcr-abl_inhibitor', 'benzodiazepine_receptor_agonist', 'beta_amyloid_inhibitor', 'bromodomain_inhibitor', 'btk_inhibitor', 'calcineurin_inhibitor', 'calcium_channel_blocker', 'cannabinoid_receptor_agonist', 'cannabinoid_receptor_antagonist', 'carbonic_anhydrase_inhibitor', 'casein_kinase_inhibitor', 'caspase_activator', 'catechol_o_methyltransferase_inhibitor', 'cc_chemokine_receptor_antagonist', 'cck_receptor_antagonist', 'cdk_inhibitor', 'chelating_agent', 'chk_inhibitor', 'chloride_channel_blocker', 'cholesterol_inhibitor', 'cholinergic_receptor_antagonist', 'coagulation_factor_inhibitor', 'corticosteroid_agonist', 'cyclooxygenase_inhibitor', 'cytochrome_p450_inhibitor', 'dihydrofolate_reductase_inhibitor', 'dipeptidyl_peptidase_inhibitor', 'diuretic', 'dna_alkylating_agent', 'dna_inhibitor', 'dopamine_receptor_agonist', 'dopamine_receptor_antagonist', 'egfr_inhibitor', 'elastase_inhibitor', 'erbb2_inhibitor', 'estrogen_receptor_agonist', 'estrogen_receptor_antagonist', 'faah_inhibitor', 'farnesyltransferase_inhibitor', 'fatty_acid_receptor_agonist', 'fgfr_inhibitor', 'flt3_inhibitor', 'focal_adhesion_kinase_inhibitor', 'free_radical_scavenger', 'fungal_squalene_epoxidase_inhibitor', 'gaba_receptor_agonist', 'gaba_receptor_antagonist', 'gamma_secretase_inhibitor', 'glucocorticoid_receptor_agonist', 'glutamate_inhibitor', 'glutamate_receptor_agonist', 'glutamate_receptor_antagonist', 'gonadotropin_receptor_agonist', 'gsk_inhibitor', 'hcv_inhibitor', 'hdac_inhibitor', 'histamine_receptor_agonist', 'histamine_receptor_antagonist', 'histone_lysine_demethylase_inhibitor', 'histone_lysine_methyltransferase_inhibitor', 'hiv_inhibitor', 'hmgcr_inhibitor', 'hsp_inhibitor', 'igf-1_inhibitor', 'ikk_inhibitor', 'imidazoline_receptor_agonist', 'immunosuppressant', 'insulin_secretagogue', 'insulin_sensitizer', 'integrin_inhibitor', 'jak_inhibitor', 'kit_inhibitor', 'laxative', 'leukotriene_inhibitor', 'leukotriene_receptor_antagonist', 'lipase_inhibitor', 'lipoxygenase_inhibitor', 'lxr_agonist', 'mdm_inhibitor', 'mek_inhibitor', 'membrane_integrity_inhibitor', 'mineralocorticoid_receptor_antagonist', 'monoacylglycerol_lipase_inhibitor', 'monoamine_oxidase_inhibitor', 'monopolar_spindle_1_kinase_inhibitor', 'mtor_inhibitor', 'mucolytic_agent', 'neuropeptide_receptor_antagonist', 'nfkb_inhibitor', 'nicotinic_receptor_agonist', 'nitric_oxide_donor', 'nitric_oxide_production_inhibitor', 'nitric_oxide_synthase_inhibitor', 'norepinephrine_reuptake_inhibitor', 'nrf2_activator', 'opioid_receptor_agonist', 'opioid_receptor_antagonist', 'orexin_receptor_antagonist', 'p38_mapk_inhibitor', 'p-glycoprotein_inhibitor', 'parp_inhibitor', 'pdgfr_inhibitor', 'pdk_inhibitor', 'phosphodiesterase_inhibitor', 'phospholipase_inhibitor', 'pi3k_inhibitor', 'pkc_inhibitor', 'potassium_channel_activator', 'potassium_channel_antagonist', 'ppar_receptor_agonist', 'ppar_receptor_antagonist', 'progesterone_receptor_agonist', 'progesterone_receptor_antagonist', 'prostaglandin_inhibitor', 'prostanoid_receptor_antagonist', 'proteasome_inhibitor', 'protein_kinase_inhibitor', 'protein_phosphatase_inhibitor', 'protein_synthesis_inhibitor', 'protein_tyrosine_kinase_inhibitor', 'radiopaque_medium', 'raf_inhibitor', 'ras_gtpase_inhibitor', 'retinoid_receptor_agonist', 'retinoid_receptor_antagonist', 'rho_associated_kinase_inhibitor', 'ribonucleoside_reductase_inhibitor', 'rna_polymerase_inhibitor', 'serotonin_receptor_agonist', 'serotonin_receptor_antagonist', 'serotonin_reuptake_inhibitor', 'sigma_receptor_agonist', 'sigma_receptor_antagonist', 'smoothened_receptor_antagonist', 'sodium_channel_inhibitor', 'sphingosine_receptor_agonist', 'src_inhibitor', 'steroid', 'syk_inhibitor', 'tachykinin_antagonist', 'tgf-beta_receptor_inhibitor', 'thrombin_inhibitor', 'thymidylate_synthase_inhibitor', 'tlr_agonist', 'tlr_antagonist', 'tnf_inhibitor', 'topoisomerase_inhibitor', 'transient_receptor_potential_channel_antagonist', 'tropomyosin_receptor_kinase_inhibitor', 'trpv_agonist', 'trpv_antagonist', 'tubulin_inhibitor', 'tyrosine_kinase_inhibitor', 'ubiquitin_specific_protease_inhibitor', 'vegfr_inhibitor', 'vitamin_b', 'vitamin_d_receptor_agonist', 'wnt_inhibitor']\n",
        "predictions.columns=target_name\n",
        "\n",
        "sample2 = pd.DataFrame(sample1[\"sig_id\"])\n",
        "sample2\n",
        "predictions.insert(0, \"sig_id\", sample2, True)\n",
        "\n",
        "predictions.head(10)\n",
        "predictions.to_csv('new_submission.csv', index = False)\n",
        "predictions.shape\n",
        "predictions = pd.DataFrame(predictions)\n",
        "\n",
        "\n",
        "model.summary()\n",
        "\n",
        "from IPython.display import SVG\n",
        "from keras.utils.vis_utils import model_to_dot\n",
        "SVG(model_to_dot(model, show_shapes=True, show_layer_names=False, \n",
        "                 rankdir='TB', dpi=60).create(prog='dot', format='svg'))"
      ],
      "execution_count": 17,
      "outputs": [
        {
          "output_type": "stream",
          "text": [
            "Epoch 1/39\n",
            "737/737 [==============================] - 4s 6ms/step - loss: 0.0195 - auc_5: 0.7120\n",
            "Epoch 2/39\n",
            "737/737 [==============================] - 4s 6ms/step - loss: 0.0187 - auc_5: 0.7291\n",
            "Epoch 3/39\n",
            "737/737 [==============================] - 4s 5ms/step - loss: 0.0184 - auc_5: 0.7399\n",
            "Epoch 4/39\n",
            "737/737 [==============================] - 4s 6ms/step - loss: 0.0181 - auc_5: 0.7455\n",
            "Epoch 5/39\n",
            "737/737 [==============================] - 4s 6ms/step - loss: 0.0180 - auc_5: 0.7498\n",
            "Epoch 6/39\n",
            "737/737 [==============================] - 4s 6ms/step - loss: 0.0178 - auc_5: 0.7530\n",
            "Epoch 7/39\n",
            "737/737 [==============================] - 4s 6ms/step - loss: 0.0176 - auc_5: 0.7561\n",
            "Epoch 8/39\n",
            "737/737 [==============================] - 4s 5ms/step - loss: 0.0174 - auc_5: 0.7605\n",
            "Epoch 9/39\n",
            "737/737 [==============================] - 4s 6ms/step - loss: 0.0172 - auc_5: 0.7632\n",
            "Epoch 10/39\n",
            "737/737 [==============================] - 5s 6ms/step - loss: 0.0171 - auc_5: 0.7676\n",
            "Epoch 11/39\n",
            "737/737 [==============================] - 4s 6ms/step - loss: 0.0171 - auc_5: 0.7697\n",
            "Epoch 12/39\n",
            "737/737 [==============================] - 4s 5ms/step - loss: 0.0169 - auc_5: 0.7760\n",
            "Epoch 13/39\n",
            "737/737 [==============================] - 4s 6ms/step - loss: 0.0167 - auc_5: 0.7767\n",
            "Epoch 14/39\n",
            "737/737 [==============================] - 4s 5ms/step - loss: 0.0166 - auc_5: 0.7808\n",
            "Epoch 15/39\n",
            "737/737 [==============================] - 4s 5ms/step - loss: 0.0165 - auc_5: 0.7821\n",
            "Epoch 16/39\n",
            "737/737 [==============================] - 4s 5ms/step - loss: 0.0164 - auc_5: 0.7829\n",
            "Epoch 17/39\n",
            "737/737 [==============================] - 4s 6ms/step - loss: 0.0163 - auc_5: 0.7864\n",
            "Epoch 18/39\n",
            "737/737 [==============================] - 4s 5ms/step - loss: 0.0162 - auc_5: 0.7876\n",
            "Epoch 19/39\n",
            "737/737 [==============================] - 4s 6ms/step - loss: 0.0162 - auc_5: 0.7890\n",
            "Epoch 20/39\n",
            "737/737 [==============================] - 4s 6ms/step - loss: 0.0161 - auc_5: 0.7913\n",
            "Epoch 21/39\n",
            "737/737 [==============================] - 4s 5ms/step - loss: 0.0160 - auc_5: 0.7936\n",
            "Epoch 22/39\n",
            "737/737 [==============================] - 4s 6ms/step - loss: 0.0160 - auc_5: 0.7942\n",
            "Epoch 23/39\n",
            "737/737 [==============================] - 4s 6ms/step - loss: 0.0159 - auc_5: 0.7943\n",
            "Epoch 24/39\n",
            "737/737 [==============================] - 4s 6ms/step - loss: 0.0159 - auc_5: 0.7965\n",
            "Epoch 25/39\n",
            "737/737 [==============================] - 4s 6ms/step - loss: 0.0158 - auc_5: 0.7998\n",
            "Epoch 26/39\n",
            "737/737 [==============================] - 4s 6ms/step - loss: 0.0158 - auc_5: 0.8006\n",
            "Epoch 27/39\n",
            "737/737 [==============================] - 4s 6ms/step - loss: 0.0157 - auc_5: 0.8021\n",
            "Epoch 28/39\n",
            "737/737 [==============================] - 4s 6ms/step - loss: 0.0156 - auc_5: 0.8033\n",
            "Epoch 29/39\n",
            "737/737 [==============================] - 4s 6ms/step - loss: 0.0156 - auc_5: 0.8048\n",
            "Epoch 30/39\n",
            "737/737 [==============================] - 4s 5ms/step - loss: 0.0155 - auc_5: 0.8063\n",
            "Epoch 31/39\n",
            "737/737 [==============================] - 4s 6ms/step - loss: 0.0154 - auc_5: 0.8087\n",
            "Epoch 32/39\n",
            "737/737 [==============================] - 4s 6ms/step - loss: 0.0154 - auc_5: 0.8105\n",
            "Epoch 33/39\n",
            "737/737 [==============================] - 4s 6ms/step - loss: 0.0154 - auc_5: 0.8109\n",
            "Epoch 34/39\n",
            "737/737 [==============================] - 4s 5ms/step - loss: 0.0153 - auc_5: 0.8134\n",
            "Epoch 35/39\n",
            "737/737 [==============================] - 4s 6ms/step - loss: 0.0153 - auc_5: 0.8156\n",
            "Epoch 36/39\n",
            "737/737 [==============================] - 4s 5ms/step - loss: 0.0153 - auc_5: 0.8152\n",
            "Epoch 37/39\n",
            "737/737 [==============================] - 4s 6ms/step - loss: 0.0152 - auc_5: 0.8158\n",
            "Epoch 38/39\n",
            "737/737 [==============================] - 4s 6ms/step - loss: 0.0151 - auc_5: 0.8186\n",
            "Epoch 39/39\n",
            "737/737 [==============================] - 4s 6ms/step - loss: 0.0151 - auc_5: 0.8192\n",
            "8/8 [==============================] - 0s 3ms/step - loss: 0.0160 - auc_5: 0.7939\n",
            "loss 0.016014138236641884\n",
            "accuracy 0.793928861618042\n",
            "Model: \"sequential_8\"\n",
            "_________________________________________________________________\n",
            "Layer (type)                 Output Shape              Param #   \n",
            "=================================================================\n",
            "flatten_8 (Flatten)          (None, 876)               0         \n",
            "_________________________________________________________________\n",
            "dense_32 (Dense)             (None, 480)               420960    \n",
            "_________________________________________________________________\n",
            "dense_33 (Dense)             (None, 480)               230880    \n",
            "_________________________________________________________________\n",
            "dense_34 (Dense)             (None, 480)               230880    \n",
            "_________________________________________________________________\n",
            "dense_35 (Dense)             (None, 480)               230880    \n",
            "_________________________________________________________________\n",
            "last_frozen (Dense)          (None, 480)               230880    \n",
            "_________________________________________________________________\n",
            "dense_36 (Dense)             (None, 206)               99086     \n",
            "_________________________________________________________________\n",
            "dense_37 (Dense)             (None, 206)               42642     \n",
            "=================================================================\n",
            "Total params: 1,486,208\n",
            "Trainable params: 1,486,208\n",
            "Non-trainable params: 0\n",
            "_________________________________________________________________\n"
          ],
          "name": "stdout"
        },
        {
          "output_type": "execute_result",
          "data": {
            "text/plain": [
              "<IPython.core.display.SVG object>"
            ],
            "image/svg+xml": "<svg height=\"599pt\" viewBox=\"0.00 0.00 217.00 719.00\" width=\"181pt\" xmlns=\"http://www.w3.org/2000/svg\" xmlns:xlink=\"http://www.w3.org/1999/xlink\">\n<g class=\"graph\" id=\"graph0\" transform=\"scale(.8333 .8333) rotate(0) translate(4 715)\">\n<title>G</title>\n<polygon fill=\"#ffffff\" points=\"-4,4 -4,-715 213,-715 213,4 -4,4\" stroke=\"transparent\"/>\n<!-- 139910838914072 -->\n<g class=\"node\" id=\"node1\">\n<title>139910838914072</title>\n<polygon fill=\"none\" points=\"0,-664.5 0,-710.5 209,-710.5 209,-664.5 0,-664.5\" stroke=\"#000000\"/>\n<text fill=\"#000000\" font-family=\"Times,serif\" font-size=\"14.00\" text-anchor=\"middle\" x=\"40\" y=\"-683.8\">InputLayer</text>\n<polyline fill=\"none\" points=\"80,-664.5 80,-710.5 \" stroke=\"#000000\"/>\n<text fill=\"#000000\" font-family=\"Times,serif\" font-size=\"14.00\" text-anchor=\"middle\" x=\"109\" y=\"-695.3\">input:</text>\n<polyline fill=\"none\" points=\"80,-687.5 138,-687.5 \" stroke=\"#000000\"/>\n<text fill=\"#000000\" font-family=\"Times,serif\" font-size=\"14.00\" text-anchor=\"middle\" x=\"109\" y=\"-672.3\">output:</text>\n<polyline fill=\"none\" points=\"138,-664.5 138,-710.5 \" stroke=\"#000000\"/>\n<text fill=\"#000000\" font-family=\"Times,serif\" font-size=\"14.00\" text-anchor=\"middle\" x=\"173.5\" y=\"-695.3\">[(?, 876)]</text>\n<polyline fill=\"none\" points=\"138,-687.5 209,-687.5 \" stroke=\"#000000\"/>\n<text fill=\"#000000\" font-family=\"Times,serif\" font-size=\"14.00\" text-anchor=\"middle\" x=\"173.5\" y=\"-672.3\">[(?, 876)]</text>\n</g>\n<!-- 139910250352424 -->\n<g class=\"node\" id=\"node2\">\n<title>139910250352424</title>\n<polygon fill=\"none\" points=\"16.5,-581.5 16.5,-627.5 192.5,-627.5 192.5,-581.5 16.5,-581.5\" stroke=\"#000000\"/>\n<text fill=\"#000000\" font-family=\"Times,serif\" font-size=\"14.00\" text-anchor=\"middle\" x=\"44.5\" y=\"-600.8\">Flatten</text>\n<polyline fill=\"none\" points=\"72.5,-581.5 72.5,-627.5 \" stroke=\"#000000\"/>\n<text fill=\"#000000\" font-family=\"Times,serif\" font-size=\"14.00\" text-anchor=\"middle\" x=\"101.5\" y=\"-612.3\">input:</text>\n<polyline fill=\"none\" points=\"72.5,-604.5 130.5,-604.5 \" stroke=\"#000000\"/>\n<text fill=\"#000000\" font-family=\"Times,serif\" font-size=\"14.00\" text-anchor=\"middle\" x=\"101.5\" y=\"-589.3\">output:</text>\n<polyline fill=\"none\" points=\"130.5,-581.5 130.5,-627.5 \" stroke=\"#000000\"/>\n<text fill=\"#000000\" font-family=\"Times,serif\" font-size=\"14.00\" text-anchor=\"middle\" x=\"161.5\" y=\"-612.3\">(?, 876)</text>\n<polyline fill=\"none\" points=\"130.5,-604.5 192.5,-604.5 \" stroke=\"#000000\"/>\n<text fill=\"#000000\" font-family=\"Times,serif\" font-size=\"14.00\" text-anchor=\"middle\" x=\"161.5\" y=\"-589.3\">(?, 876)</text>\n</g>\n<!-- 139910838914072&#45;&gt;139910250352424 -->\n<g class=\"edge\" id=\"edge1\">\n<title>139910838914072-&gt;139910250352424</title>\n<path d=\"M104.5,-664.3799C104.5,-656.1745 104.5,-646.7679 104.5,-637.8786\" fill=\"none\" stroke=\"#000000\"/>\n<polygon fill=\"#000000\" points=\"108.0001,-637.784 104.5,-627.784 101.0001,-637.784 108.0001,-637.784\" stroke=\"#000000\"/>\n</g>\n<!-- 139908406903584 -->\n<g class=\"node\" id=\"node3\">\n<title>139908406903584</title>\n<polygon fill=\"none\" points=\"18.5,-498.5 18.5,-544.5 190.5,-544.5 190.5,-498.5 18.5,-498.5\" stroke=\"#000000\"/>\n<text fill=\"#000000\" font-family=\"Times,serif\" font-size=\"14.00\" text-anchor=\"middle\" x=\"44.5\" y=\"-517.8\">Dense</text>\n<polyline fill=\"none\" points=\"70.5,-498.5 70.5,-544.5 \" stroke=\"#000000\"/>\n<text fill=\"#000000\" font-family=\"Times,serif\" font-size=\"14.00\" text-anchor=\"middle\" x=\"99.5\" y=\"-529.3\">input:</text>\n<polyline fill=\"none\" points=\"70.5,-521.5 128.5,-521.5 \" stroke=\"#000000\"/>\n<text fill=\"#000000\" font-family=\"Times,serif\" font-size=\"14.00\" text-anchor=\"middle\" x=\"99.5\" y=\"-506.3\">output:</text>\n<polyline fill=\"none\" points=\"128.5,-498.5 128.5,-544.5 \" stroke=\"#000000\"/>\n<text fill=\"#000000\" font-family=\"Times,serif\" font-size=\"14.00\" text-anchor=\"middle\" x=\"159.5\" y=\"-529.3\">(?, 876)</text>\n<polyline fill=\"none\" points=\"128.5,-521.5 190.5,-521.5 \" stroke=\"#000000\"/>\n<text fill=\"#000000\" font-family=\"Times,serif\" font-size=\"14.00\" text-anchor=\"middle\" x=\"159.5\" y=\"-506.3\">(?, 480)</text>\n</g>\n<!-- 139910250352424&#45;&gt;139908406903584 -->\n<g class=\"edge\" id=\"edge2\">\n<title>139910250352424-&gt;139908406903584</title>\n<path d=\"M104.5,-581.3799C104.5,-573.1745 104.5,-563.7679 104.5,-554.8786\" fill=\"none\" stroke=\"#000000\"/>\n<polygon fill=\"#000000\" points=\"108.0001,-554.784 104.5,-544.784 101.0001,-554.784 108.0001,-554.784\" stroke=\"#000000\"/>\n</g>\n<!-- 139908406903304 -->\n<g class=\"node\" id=\"node4\">\n<title>139908406903304</title>\n<polygon fill=\"none\" points=\"18.5,-415.5 18.5,-461.5 190.5,-461.5 190.5,-415.5 18.5,-415.5\" stroke=\"#000000\"/>\n<text fill=\"#000000\" font-family=\"Times,serif\" font-size=\"14.00\" text-anchor=\"middle\" x=\"44.5\" y=\"-434.8\">Dense</text>\n<polyline fill=\"none\" points=\"70.5,-415.5 70.5,-461.5 \" stroke=\"#000000\"/>\n<text fill=\"#000000\" font-family=\"Times,serif\" font-size=\"14.00\" text-anchor=\"middle\" x=\"99.5\" y=\"-446.3\">input:</text>\n<polyline fill=\"none\" points=\"70.5,-438.5 128.5,-438.5 \" stroke=\"#000000\"/>\n<text fill=\"#000000\" font-family=\"Times,serif\" font-size=\"14.00\" text-anchor=\"middle\" x=\"99.5\" y=\"-423.3\">output:</text>\n<polyline fill=\"none\" points=\"128.5,-415.5 128.5,-461.5 \" stroke=\"#000000\"/>\n<text fill=\"#000000\" font-family=\"Times,serif\" font-size=\"14.00\" text-anchor=\"middle\" x=\"159.5\" y=\"-446.3\">(?, 480)</text>\n<polyline fill=\"none\" points=\"128.5,-438.5 190.5,-438.5 \" stroke=\"#000000\"/>\n<text fill=\"#000000\" font-family=\"Times,serif\" font-size=\"14.00\" text-anchor=\"middle\" x=\"159.5\" y=\"-423.3\">(?, 480)</text>\n</g>\n<!-- 139908406903584&#45;&gt;139908406903304 -->\n<g class=\"edge\" id=\"edge3\">\n<title>139908406903584-&gt;139908406903304</title>\n<path d=\"M104.5,-498.3799C104.5,-490.1745 104.5,-480.7679 104.5,-471.8786\" fill=\"none\" stroke=\"#000000\"/>\n<polygon fill=\"#000000\" points=\"108.0001,-471.784 104.5,-461.784 101.0001,-471.784 108.0001,-471.784\" stroke=\"#000000\"/>\n</g>\n<!-- 139910831200352 -->\n<g class=\"node\" id=\"node5\">\n<title>139910831200352</title>\n<polygon fill=\"none\" points=\"18.5,-332.5 18.5,-378.5 190.5,-378.5 190.5,-332.5 18.5,-332.5\" stroke=\"#000000\"/>\n<text fill=\"#000000\" font-family=\"Times,serif\" font-size=\"14.00\" text-anchor=\"middle\" x=\"44.5\" y=\"-351.8\">Dense</text>\n<polyline fill=\"none\" points=\"70.5,-332.5 70.5,-378.5 \" stroke=\"#000000\"/>\n<text fill=\"#000000\" font-family=\"Times,serif\" font-size=\"14.00\" text-anchor=\"middle\" x=\"99.5\" y=\"-363.3\">input:</text>\n<polyline fill=\"none\" points=\"70.5,-355.5 128.5,-355.5 \" stroke=\"#000000\"/>\n<text fill=\"#000000\" font-family=\"Times,serif\" font-size=\"14.00\" text-anchor=\"middle\" x=\"99.5\" y=\"-340.3\">output:</text>\n<polyline fill=\"none\" points=\"128.5,-332.5 128.5,-378.5 \" stroke=\"#000000\"/>\n<text fill=\"#000000\" font-family=\"Times,serif\" font-size=\"14.00\" text-anchor=\"middle\" x=\"159.5\" y=\"-363.3\">(?, 480)</text>\n<polyline fill=\"none\" points=\"128.5,-355.5 190.5,-355.5 \" stroke=\"#000000\"/>\n<text fill=\"#000000\" font-family=\"Times,serif\" font-size=\"14.00\" text-anchor=\"middle\" x=\"159.5\" y=\"-340.3\">(?, 480)</text>\n</g>\n<!-- 139908406903304&#45;&gt;139910831200352 -->\n<g class=\"edge\" id=\"edge4\">\n<title>139908406903304-&gt;139910831200352</title>\n<path d=\"M104.5,-415.3799C104.5,-407.1745 104.5,-397.7679 104.5,-388.8786\" fill=\"none\" stroke=\"#000000\"/>\n<polygon fill=\"#000000\" points=\"108.0001,-388.784 104.5,-378.784 101.0001,-388.784 108.0001,-388.784\" stroke=\"#000000\"/>\n</g>\n<!-- 139908406905824 -->\n<g class=\"node\" id=\"node6\">\n<title>139908406905824</title>\n<polygon fill=\"none\" points=\"18.5,-249.5 18.5,-295.5 190.5,-295.5 190.5,-249.5 18.5,-249.5\" stroke=\"#000000\"/>\n<text fill=\"#000000\" font-family=\"Times,serif\" font-size=\"14.00\" text-anchor=\"middle\" x=\"44.5\" y=\"-268.8\">Dense</text>\n<polyline fill=\"none\" points=\"70.5,-249.5 70.5,-295.5 \" stroke=\"#000000\"/>\n<text fill=\"#000000\" font-family=\"Times,serif\" font-size=\"14.00\" text-anchor=\"middle\" x=\"99.5\" y=\"-280.3\">input:</text>\n<polyline fill=\"none\" points=\"70.5,-272.5 128.5,-272.5 \" stroke=\"#000000\"/>\n<text fill=\"#000000\" font-family=\"Times,serif\" font-size=\"14.00\" text-anchor=\"middle\" x=\"99.5\" y=\"-257.3\">output:</text>\n<polyline fill=\"none\" points=\"128.5,-249.5 128.5,-295.5 \" stroke=\"#000000\"/>\n<text fill=\"#000000\" font-family=\"Times,serif\" font-size=\"14.00\" text-anchor=\"middle\" x=\"159.5\" y=\"-280.3\">(?, 480)</text>\n<polyline fill=\"none\" points=\"128.5,-272.5 190.5,-272.5 \" stroke=\"#000000\"/>\n<text fill=\"#000000\" font-family=\"Times,serif\" font-size=\"14.00\" text-anchor=\"middle\" x=\"159.5\" y=\"-257.3\">(?, 480)</text>\n</g>\n<!-- 139910831200352&#45;&gt;139908406905824 -->\n<g class=\"edge\" id=\"edge5\">\n<title>139910831200352-&gt;139908406905824</title>\n<path d=\"M104.5,-332.3799C104.5,-324.1745 104.5,-314.7679 104.5,-305.8786\" fill=\"none\" stroke=\"#000000\"/>\n<polygon fill=\"#000000\" points=\"108.0001,-305.784 104.5,-295.784 101.0001,-305.784 108.0001,-305.784\" stroke=\"#000000\"/>\n</g>\n<!-- 139908406905152 -->\n<g class=\"node\" id=\"node7\">\n<title>139908406905152</title>\n<polygon fill=\"none\" points=\"18.5,-166.5 18.5,-212.5 190.5,-212.5 190.5,-166.5 18.5,-166.5\" stroke=\"#000000\"/>\n<text fill=\"#000000\" font-family=\"Times,serif\" font-size=\"14.00\" text-anchor=\"middle\" x=\"44.5\" y=\"-185.8\">Dense</text>\n<polyline fill=\"none\" points=\"70.5,-166.5 70.5,-212.5 \" stroke=\"#000000\"/>\n<text fill=\"#000000\" font-family=\"Times,serif\" font-size=\"14.00\" text-anchor=\"middle\" x=\"99.5\" y=\"-197.3\">input:</text>\n<polyline fill=\"none\" points=\"70.5,-189.5 128.5,-189.5 \" stroke=\"#000000\"/>\n<text fill=\"#000000\" font-family=\"Times,serif\" font-size=\"14.00\" text-anchor=\"middle\" x=\"99.5\" y=\"-174.3\">output:</text>\n<polyline fill=\"none\" points=\"128.5,-166.5 128.5,-212.5 \" stroke=\"#000000\"/>\n<text fill=\"#000000\" font-family=\"Times,serif\" font-size=\"14.00\" text-anchor=\"middle\" x=\"159.5\" y=\"-197.3\">(?, 480)</text>\n<polyline fill=\"none\" points=\"128.5,-189.5 190.5,-189.5 \" stroke=\"#000000\"/>\n<text fill=\"#000000\" font-family=\"Times,serif\" font-size=\"14.00\" text-anchor=\"middle\" x=\"159.5\" y=\"-174.3\">(?, 480)</text>\n</g>\n<!-- 139908406905824&#45;&gt;139908406905152 -->\n<g class=\"edge\" id=\"edge6\">\n<title>139908406905824-&gt;139908406905152</title>\n<path d=\"M104.5,-249.3799C104.5,-241.1745 104.5,-231.7679 104.5,-222.8786\" fill=\"none\" stroke=\"#000000\"/>\n<polygon fill=\"#000000\" points=\"108.0001,-222.784 104.5,-212.784 101.0001,-222.784 108.0001,-222.784\" stroke=\"#000000\"/>\n</g>\n<!-- 139908406906776 -->\n<g class=\"node\" id=\"node8\">\n<title>139908406906776</title>\n<polygon fill=\"none\" points=\"18.5,-83.5 18.5,-129.5 190.5,-129.5 190.5,-83.5 18.5,-83.5\" stroke=\"#000000\"/>\n<text fill=\"#000000\" font-family=\"Times,serif\" font-size=\"14.00\" text-anchor=\"middle\" x=\"44.5\" y=\"-102.8\">Dense</text>\n<polyline fill=\"none\" points=\"70.5,-83.5 70.5,-129.5 \" stroke=\"#000000\"/>\n<text fill=\"#000000\" font-family=\"Times,serif\" font-size=\"14.00\" text-anchor=\"middle\" x=\"99.5\" y=\"-114.3\">input:</text>\n<polyline fill=\"none\" points=\"70.5,-106.5 128.5,-106.5 \" stroke=\"#000000\"/>\n<text fill=\"#000000\" font-family=\"Times,serif\" font-size=\"14.00\" text-anchor=\"middle\" x=\"99.5\" y=\"-91.3\">output:</text>\n<polyline fill=\"none\" points=\"128.5,-83.5 128.5,-129.5 \" stroke=\"#000000\"/>\n<text fill=\"#000000\" font-family=\"Times,serif\" font-size=\"14.00\" text-anchor=\"middle\" x=\"159.5\" y=\"-114.3\">(?, 480)</text>\n<polyline fill=\"none\" points=\"128.5,-106.5 190.5,-106.5 \" stroke=\"#000000\"/>\n<text fill=\"#000000\" font-family=\"Times,serif\" font-size=\"14.00\" text-anchor=\"middle\" x=\"159.5\" y=\"-91.3\">(?, 206)</text>\n</g>\n<!-- 139908406905152&#45;&gt;139908406906776 -->\n<g class=\"edge\" id=\"edge7\">\n<title>139908406905152-&gt;139908406906776</title>\n<path d=\"M104.5,-166.3799C104.5,-158.1745 104.5,-148.7679 104.5,-139.8786\" fill=\"none\" stroke=\"#000000\"/>\n<polygon fill=\"#000000\" points=\"108.0001,-139.784 104.5,-129.784 101.0001,-139.784 108.0001,-139.784\" stroke=\"#000000\"/>\n</g>\n<!-- 139910250394456 -->\n<g class=\"node\" id=\"node9\">\n<title>139910250394456</title>\n<polygon fill=\"none\" points=\"18.5,-.5 18.5,-46.5 190.5,-46.5 190.5,-.5 18.5,-.5\" stroke=\"#000000\"/>\n<text fill=\"#000000\" font-family=\"Times,serif\" font-size=\"14.00\" text-anchor=\"middle\" x=\"44.5\" y=\"-19.8\">Dense</text>\n<polyline fill=\"none\" points=\"70.5,-.5 70.5,-46.5 \" stroke=\"#000000\"/>\n<text fill=\"#000000\" font-family=\"Times,serif\" font-size=\"14.00\" text-anchor=\"middle\" x=\"99.5\" y=\"-31.3\">input:</text>\n<polyline fill=\"none\" points=\"70.5,-23.5 128.5,-23.5 \" stroke=\"#000000\"/>\n<text fill=\"#000000\" font-family=\"Times,serif\" font-size=\"14.00\" text-anchor=\"middle\" x=\"99.5\" y=\"-8.3\">output:</text>\n<polyline fill=\"none\" points=\"128.5,-.5 128.5,-46.5 \" stroke=\"#000000\"/>\n<text fill=\"#000000\" font-family=\"Times,serif\" font-size=\"14.00\" text-anchor=\"middle\" x=\"159.5\" y=\"-31.3\">(?, 206)</text>\n<polyline fill=\"none\" points=\"128.5,-23.5 190.5,-23.5 \" stroke=\"#000000\"/>\n<text fill=\"#000000\" font-family=\"Times,serif\" font-size=\"14.00\" text-anchor=\"middle\" x=\"159.5\" y=\"-8.3\">(?, 206)</text>\n</g>\n<!-- 139908406906776&#45;&gt;139910250394456 -->\n<g class=\"edge\" id=\"edge8\">\n<title>139908406906776-&gt;139910250394456</title>\n<path d=\"M104.5,-83.3799C104.5,-75.1745 104.5,-65.7679 104.5,-56.8786\" fill=\"none\" stroke=\"#000000\"/>\n<polygon fill=\"#000000\" points=\"108.0001,-56.784 104.5,-46.784 101.0001,-56.784 108.0001,-56.784\" stroke=\"#000000\"/>\n</g>\n</g>\n</svg>"
          },
          "metadata": {
            "tags": []
          },
          "execution_count": 17
        }
      ]
    },
    {
      "cell_type": "code",
      "metadata": {
        "id": "qiasOb9m_oLI"
      },
      "source": [
        ""
      ],
      "execution_count": null,
      "outputs": []
    }
  ]
}